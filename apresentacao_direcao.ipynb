{
 "cells": [
  {
   "cell_type": "markdown",
   "metadata": {},
   "source": [
    "# Análise de Absentismo - Apresentação à Direção\n\n",
    "## Abordagem: Storytelling com Dados\n\n",
    "Este notebook responde a perguntas específicas sobre absentismo, construindo um argumento\n",
    "baseado em evidências para apresentação à direção.\n\n",
    "### Estrutura:\n",
    "1. **Panorama Geral** - Qual o contexto?\n",
    "2. **Padrões Temporais** - Há sazonalidade?\n",
    "3. **Teste de Aleatoriedade** - Faltas são aleatórias ou estratégicas?\n",
    "4. **Análise de Atrasos** - Mesmos padrões?\n",
    "5. **Segmentação** - Varia por categoria/operação?\n",
    "6. **Red Flags** - Há abusos óbvios?\n",
    "7. **Conclusões** - O que fazemos?\n\n",
    "---"
   ]
  },
  {
   "cell_type": "markdown",
   "metadata": {},
   "source": [
    "## Setup e Configuração"
   ]
  },
  {
   "cell_type": "code",
   "execution_count": null,
   "metadata": {},
   "outputs": [],
   "source": [
    "# Imports\n",
    "import pandas as pd\n",
    "import numpy as np\n",
    "import plotly.express as px\n",
    "import plotly.graph_objects as go\n",
    "from plotly.subplots import make_subplots\n",
    "from scipy.stats import chisquare, chi2_contingency\n",
    "from datetime import datetime\n",
    "import warnings\n",
    "\n",
    "# Configurações\n",
    "warnings.filterwarnings('ignore')\n",
    "pd.set_option('display.max_columns', None)\n",
    "pd.set_option('display.float_format', lambda x: '%.2f' % x)\n",
    "\n",
    "# Cores para consistência visual\n",
    "COLORS = {\n",
    "    'primary': '#2E86AB',\n",
    "    'success': '#06A77D',\n",
    "    'warning': '#F18F01',\n",
    "    'danger': '#C73E1D',\n",
    "    'info': '#6A994E'\n",
    "}\n",
    "\n",
    "print('✅ Setup concluído!')"
   ]
  },
  {
   "cell_type": "markdown",
   "metadata": {},
   "source": [
    "## Carregamento e Preparação dos Dados"
   ]
  },
  {
   "cell_type": "code",
   "execution_count": null,
   "metadata": {},
   "outputs": [],
   "source": "# Carregar códigos com nova estrutura (6 colunas)\ncodigos = pd.read_excel('códigos.xlsx', engine='openpyxl')\ncodigos.columns = ['codigo', 'descricao', 'nivel_1', 'nivel_2', 'nivel_3', 'nivel_4']\n\n# Limpar espaços\nfor col in codigos.columns:\n    if codigos[col].dtype == 'object':\n        codigos[col] = codigos[col].str.strip()\n\nprint(f'✅ Códigos carregados: {len(codigos)} códigos')\nprint(f'   Níveis de classificação:')\nprint(f'   - Nível 1: {codigos[\"nivel_1\"].nunique()} categorias (Presença/Ausência)')\nprint(f'   - Nível 2: {codigos[\"nivel_2\"].nunique()} categorias')\nprint(f'   - Nível 3: {codigos[\"nivel_3\"].nunique()} categorias')\nprint(f'   - Nível 4: {codigos[\"nivel_4\"].nunique()} categorias (inclui Atrasos)')"
  },
  {
   "cell_type": "code",
   "execution_count": null,
   "metadata": {},
   "outputs": [],
   "source": "# Carregar dataset\nprint('Carregando dataset...')\n\ndtype_dict = {\n    'login_colaborador': 'int32',\n    'nome_colaborador': 'str',\n    'categoria_profissional': 'category',\n    'segmento': 'category',\n    'operacao': 'category',\n    'departamento': 'category',\n    'segmento_processado_codigo': 'category',\n    'codigo_nivel_2': 'category',\n    'Contagem_ID': 'int8',\n    'Activo?': 'category'\n}\n\ndf_raw = pd.read_csv('combined_data.csv', sep=',', dtype=dtype_dict, parse_dates=['Data'])\n\n# Merge com códigos (agora com 4 níveis)\ndf_raw = df_raw.merge(codigos[['codigo', 'nivel_1', 'nivel_2', 'nivel_3', 'nivel_4']], \n                       left_on='segmento_processado_codigo', right_on='codigo', how='left')\ndf_raw.drop('codigo', axis=1, inplace=True)\n\n# Variáveis derivadas\ndf_raw['ano'] = df_raw['Data'].dt.year\ndf_raw['mes'] = df_raw['Data'].dt.month\ndf_raw['dia'] = df_raw['Data'].dt.day\ndf_raw['dia_semana'] = df_raw['Data'].dt.dayofweek\ndf_raw['nome_dia_semana'] = df_raw['Data'].dt.day_name()\ndf_raw['ano_mes'] = df_raw['Data'].dt.to_period('M')\ndf_raw['semana_mes'] = ((df_raw['dia'] - 1) // 7) + 1\ndf_raw['is_ativo'] = (df_raw['Activo?'] == 'Sim').astype(int)\n\nprint(f'✅ Dataset carregado: {len(df_raw):,} registros')"
  },
  {
   "cell_type": "code",
   "execution_count": null,
   "metadata": {},
   "outputs": [],
   "source": "# CRÍTICO: Agregar dados (1 registro por colaborador por dia)\n# Hierarquia de prioridade baseada em nivel_2 (mantém apenas o mais grave)\n# Ordem: Ausência Injustificada > Ausência Justificada > Atraso > Presença > Inatividade\n\nprioridade_nivel2 = {\n    'Ausência Injustificada': 1,\n    'Ausência Justificada': 2,\n    'Presença': 3,  # Nota: Presença inclui atrasos no nivel_2\n    'Inatividade': 4\n}\n\ndf_raw['prioridade'] = df_raw['nivel_2'].map(prioridade_nivel2)\n\n# Para desempatar dentro de \"Presença\", usar nivel_4 (Atraso tem prioridade sobre Presença normal)\nprioridade_nivel4 = {\n    'Atraso': 1,\n    'Presença': 2,\n    'Ferias / Feriado / Folga': 3,\n    'Ausência Médica': 4,\n    'Licença Mat / Pat': 5,\n    'Ausência Justificada': 6,\n    'Ausência Injustificada': 7,\n    'Assistência Familiar': 8,\n    'Óbito': 9,\n    'Casamento': 10,\n    'Exame Escolar': 11,\n    'Inatividade': 12\n}\n\ndf_raw['prioridade_nivel4'] = df_raw['nivel_4'].map(prioridade_nivel4)\n\n# Ordenar por prioridade (primeiro nivel_2, depois nivel_4 para desempate)\ndf = df_raw.sort_values(['prioridade', 'prioridade_nivel4']).groupby(['login_colaborador', 'Data'], as_index=False).first()\ndf.drop(['prioridade', 'prioridade_nivel4'], axis=1, inplace=True)\n\nprint(f'✅ Dataset agregado: {len(df):,} dias-colaborador (1 registro por pessoa por dia)')\nprint(f'   Redução: {len(df_raw) - len(df):,} registros duplicados removidos')\nprint(f'\\nDistribuição por Nível 1:')\nprint(df['nivel_1'].value_counts())\nprint(f'\\nDistribuição por Nível 2:')\nprint(df['nivel_2'].value_counts())"
  },
  {
   "cell_type": "markdown",
   "metadata": {},
   "source": [
    "---\n\n",
    "# SEÇÃO 1: Panorama Geral\n\n",
    "## Pergunta 1: Quantos dias de trabalho estamos a analisar?"
   ]
  },
  {
   "cell_type": "code",
   "execution_count": null,
   "metadata": {},
   "outputs": [],
   "source": [
    "# Estatísticas gerais\n",
    "total_dias_colab = len(df)\n",
    "periodo_inicio = df['Data'].min()\n",
    "periodo_fim = df['Data'].max()\n",
    "dias_calendario = (periodo_fim - periodo_inicio).days + 1\n",
    "total_colaboradores = df['login_colaborador'].nunique()\n",
    "colaboradores_ativos = df[df['is_ativo']==1]['login_colaborador'].nunique()\n",
    "\n",
    "print('='*80)\n",
    "print('📊 PANORAMA GERAL')\n",
    "print('='*80)\n",
    "print(f'\\nPeríodo Analisado: {periodo_inicio.strftime(\"%d/%m/%Y\")} a {periodo_fim.strftime(\"%d/%m/%Y\")}')\n",
    "print(f'Dias no calendário: {dias_calendario} dias')\n",
    "print(f'\\nTotal de dias-colaborador analisados: {total_dias_colab:,}')\n",
    "print(f'  (1 dia-colaborador = 1 pessoa trabalhando 1 dia)')\n",
    "print(f'\\nColaboradores únicos: {total_colaboradores:,}')\n",
    "print(f'  • Ativos: {colaboradores_ativos:,} ({colaboradores_ativos/total_colaboradores*100:.1f}%)')\n",
    "print(f'  • Inativos: {total_colaboradores - colaboradores_ativos:,}')\n",
    "print('='*80)"
   ]
  },
  {
   "cell_type": "markdown",
   "metadata": {},
   "source": "## Pergunta 2: Visão Hierárquica - Presença vs Ausência (Nível 1)\n\n**Importante**: No Nível 1, os Atrasos são contabilizados como \"Presença\" (colaborador estava presente, embora atrasado)."
  },
  {
   "cell_type": "code",
   "execution_count": null,
   "metadata": {},
   "outputs": [],
   "source": "# Distribuição Nível 1 (Presença vs Ausência)\ndist_nivel1 = df['nivel_1'].value_counts()\ndist_nivel1_pct = (dist_nivel1 / len(df) * 100).round(2)\n\n# Gráfico pizza para Nível 1\nfig = go.Figure(data=[go.Pie(\n    labels=dist_nivel1.index,\n    values=dist_nivel1.values,\n    marker=dict(colors=[COLORS['success'], COLORS['danger']]),\n    hole=0.5,\n    textinfo='label+percent',\n    textposition='outside',\n    textfont=dict(size=14)\n)])\n\nfig.update_layout(\n    title='<b>Nível 1: Presença vs Ausência</b><br><sub>(Atrasos contam como Presença)</sub>',\n    height=450,\n    showlegend=True,\n    annotations=[dict(text=f'{len(df):,}<br>dias-colab', x=0.5, y=0.5, font_size=16, showarrow=False)]\n)\n\nfig.show()\n\n# Tabela resumo\nprint('\\n📊 Resumo Nível 1:')\nfor categoria in dist_nivel1.index:\n    count = dist_nivel1[categoria]\n    pct = dist_nivel1_pct[categoria]\n    print(f'  • {categoria}: {count:,} dias ({pct:.2f}%)')\n\nprint(f'\\n💡 Taxa de Absentismo (Nível 1): {dist_nivel1_pct.get(\"Ausência\", 0):.2f}%')"
  },
  {
   "cell_type": "markdown",
   "metadata": {},
   "source": "## Pergunta 3: Drill-down por Níveis (2, 3, e 4)\n\nAgora vamos detalhar cada nível de classificação para entender melhor a composição do absentismo."
  },
  {
   "cell_type": "code",
   "execution_count": null,
   "metadata": {},
   "outputs": [],
   "source": "# Criar subplots para mostrar os 3 níveis lado a lado\nfrom plotly.subplots import make_subplots\n\n# Distribuições\ndist_nivel2 = df['nivel_2'].value_counts().sort_values(ascending=True)\ndist_nivel3 = df['nivel_3'].value_counts().sort_values(ascending=False).head(10)\ndist_nivel4 = df['nivel_4'].value_counts().sort_values(ascending=False).head(10)\n\n# Criar figura com 3 subplots\nfig = make_subplots(\n    rows=1, cols=3,\n    subplot_titles=('Nível 2 (4 categorias)', 'Nível 3 - Top 10', 'Nível 4 - Top 10'),\n    specs=[[{\"type\": \"bar\"}, {\"type\": \"bar\"}, {\"type\": \"bar\"}]]\n)\n\n# Nível 2\nfig.add_trace(\n    go.Bar(\n        y=dist_nivel2.index,\n        x=dist_nivel2.values,\n        orientation='h',\n        marker=dict(color=COLORS['primary']),\n        text=[f\"{v:,}<br>({v/len(df)*100:.1f}%)\" for v in dist_nivel2.values],\n        textposition='outside',\n        showlegend=False\n    ),\n    row=1, col=1\n)\n\n# Nível 3\nfig.add_trace(\n    go.Bar(\n        y=dist_nivel3.index,\n        x=dist_nivel3.values,\n        orientation='h',\n        marker=dict(color=COLORS['info']),\n        text=[f\"{v:,}<br>({v/len(df)*100:.1f}%)\" for v in dist_nivel3.values],\n        textposition='outside',\n        showlegend=False\n    ),\n    row=1, col=2\n)\n\n# Nível 4\nfig.add_trace(\n    go.Bar(\n        y=dist_nivel4.index,\n        x=dist_nivel4.values,\n        orientation='h',\n        marker=dict(color=COLORS['warning']),\n        text=[f\"{v:,}<br>({v/len(df)*100:.1f}%)\" for v in dist_nivel4.values],\n        textposition='outside',\n        showlegend=False\n    ),\n    row=1, col=3\n)\n\nfig.update_xaxes(title_text=\"Dias\", row=1, col=1)\nfig.update_xaxes(title_text=\"Dias\", row=1, col=2)\nfig.update_xaxes(title_text=\"Dias\", row=1, col=3)\n\nfig.update_layout(\n    height=500,\n    showlegend=False,\n    title_text=\"<b>Distribuição por Níveis de Classificação</b>\"\n)\n\nfig.show()\n\n# Tabelas resumo\nprint('\\n📋 NÍVEL 2 (4 categorias):')\nfor cat in dist_nivel2.index[::-1]:\n    count = dist_nivel2[cat]\n    pct = count / len(df) * 100\n    print(f'  • {cat}: {count:,} ({pct:.2f}%)')\n\nprint('\\n📋 NÍVEL 4 - Top 10 (inclui Atrasos separados):')\nfor cat in dist_nivel4.index:\n    count = dist_nivel4[cat]\n    pct = count / len(df) * 100\n    simbolo = '⚠️' if cat == 'Atraso' else '🔴' if 'Injustificada' in cat else '🟡' if 'Médica' in cat or 'Licença' in cat else '🟢'\n    print(f'  {simbolo} {cat}: {count:,} ({pct:.2f}%)')"
  },
  {
   "cell_type": "markdown",
   "metadata": {},
   "source": [
    "---\n\n",
    "# SEÇÃO 2: Padrões Temporais e Sazonalidade\n\n",
    "## Pergunta 4: Há diferenças por mês? Existe sazonalidade?"
   ]
  },
  {
   "cell_type": "code",
   "execution_count": null,
   "metadata": {},
   "outputs": [],
   "source": "# Filtrar ausências e atrasos (excluir apenas presenças normais e inatividade)\n# Usando nivel_1 = 'Ausência' OU nivel_4 = 'Atraso'\ndf_problemas = df[(df['nivel_1'] == 'Ausência') | (df['nivel_4'] == 'Atraso')].copy()\n\n# Evolução mensal usando nivel_2 para categorização principal\nevolucao_mensal = df_problemas.groupby(['ano_mes', 'nivel_2']).size().unstack(fill_value=0)\nevolucao_mensal['Total'] = evolucao_mensal.sum(axis=1)\n\n# Gráfico de área empilhada\nfig = go.Figure()\n\n# Cores por categoria nivel_2\ncores_nivel2 = {\n    'Ausência Injustificada': COLORS['danger'],\n    'Ausência Justificada': COLORS['info'],\n    'Presença': COLORS['warning'],  # Atrasos aparecem como Presença no nivel_2\n    'Inatividade': '#D3D3D3'\n}\n\nfor cat in evolucao_mensal.columns:\n    if cat != 'Total' and cat in cores_nivel2:\n        fig.add_trace(go.Scatter(\n            x=evolucao_mensal.index.astype(str),\n            y=evolucao_mensal[cat],\n            name=cat + (' (inclui Atrasos)' if cat == 'Presença' else ''),\n            mode='lines+markers',\n            stackgroup='one',\n            marker=dict(color=cores_nivel2[cat]),\n            line=dict(width=2)\n        ))\n\nfig.update_layout(\n    title='Evolução Mensal de Ausências e Atrasos',\n    xaxis_title='Mês',\n    yaxis_title='Número de Dias',\n    height=500,\n    hovermode='x unified'\n)\n\nfig.show()\n\n# Estatísticas\nprint('\\n📊 Estatísticas Mensais:')\nprint(f'  Média mensal: {evolucao_mensal[\"Total\"].mean():.0f} dias')\nprint(f'  Mês com mais problemas: {evolucao_mensal[\"Total\"].idxmax()} ({evolucao_mensal[\"Total\"].max()} dias)')\nprint(f'  Mês com menos problemas: {evolucao_mensal[\"Total\"].idxmin()} ({evolucao_mensal[\"Total\"].min()} dias)')\nprint(f'  Variação: {(evolucao_mensal[\"Total\"].max() - evolucao_mensal[\"Total\"].min()) / evolucao_mensal[\"Total\"].mean() * 100:.1f}% vs média')\n\nprint(f'\\n💡 Total de dias-problema no período: {len(df_problemas):,} ({len(df_problemas)/len(df)*100:.2f}% dos dias)')"
  },
  {
   "cell_type": "markdown",
   "metadata": {},
   "source": [
    "### Tendência: Está a melhorar ou piorar ao longo do tempo?"
   ]
  },
  {
   "cell_type": "code",
   "execution_count": null,
   "metadata": {},
   "outputs": [],
   "source": [
    "# Calcular tendência usando média móvel\n",
    "evolucao_mensal['Media_Movel_3M'] = evolucao_mensal['Total'].rolling(window=3, center=True).mean()\n",
    "\n",
    "# Gráfico com tendência\n",
    "fig = go.Figure()\n",
    "\n",
    "fig.add_trace(go.Scatter(\n",
    "    x=evolucao_mensal.index.astype(str),\n",
    "    y=evolucao_mensal['Total'],\n",
    "    name='Total Mensal',\n",
    "    mode='lines+markers',\n",
    "    marker=dict(size=8, color=COLORS['primary']),\n",
    "    line=dict(width=2)\n",
    "))\n",
    "\n",
    "fig.add_trace(go.Scatter(\n",
    "    x=evolucao_mensal.index.astype(str),\n",
    "    y=evolucao_mensal['Media_Movel_3M'],\n",
    "    name='Tendência (Média Móvel 3M)',\n",
    "    mode='lines',\n",
    "    line=dict(width=3, dash='dash', color=COLORS['danger'])\n",
    "))\n",
    "\n",
    "fig.update_layout(\n",
    "    title='Tendência de Absentismo ao Longo do Tempo',\n",
    "    xaxis_title='Mês',\n",
    "    yaxis_title='Número de Dias',\n",
    "    height=450\n",
    ")\n",
    "\n",
    "fig.show()\n",
    "\n",
    "# Comparar primeiro vs último trimestre\n",
    "primeiro_trim = evolucao_mensal['Total'].iloc[:3].mean()\n",
    "ultimo_trim = evolucao_mensal['Total'].iloc[-3:].mean()\n",
    "variacao_pct = (ultimo_trim - primeiro_trim) / primeiro_trim * 100\n",
    "\n",
    "print(f'\\n📈 Análise de Tendência:')\n",
    "print(f'  Média primeiro trimestre: {primeiro_trim:.0f} dias/mês')\n",
    "print(f'  Média último trimestre: {ultimo_trim:.0f} dias/mês')\n",
    "if variacao_pct > 0:\n",
    "    print(f'  🔴 PIOROU: +{variacao_pct:.1f}% vs início do período')\n",
    "else:\n",
    "    print(f'  🟢 MELHOROU: {variacao_pct:.1f}% vs início do período')"
   ]
  },
  {
   "cell_type": "markdown",
   "metadata": {},
   "source": [
    "## Pergunta 5: Há padrões por dia da semana?"
   ]
  },
  {
   "cell_type": "code",
   "execution_count": null,
   "metadata": {},
   "outputs": [],
   "source": "# Distribuição por dia da semana\ndias_ordem = ['Monday', 'Tuesday', 'Wednesday', 'Thursday', 'Friday', 'Saturday', 'Sunday']\ndias_pt = ['Segunda', 'Terça', 'Quarta', 'Quinta', 'Sexta', 'Sábado', 'Domingo']\n\ndist_dia_semana = df_problemas['nome_dia_semana'].value_counts().reindex(dias_ordem)\n\n# Gráfico de barras\nfig = go.Figure(data=[go.Bar(\n    x=dias_pt,\n    y=dist_dia_semana.values,\n    marker=dict(color=[\n        COLORS['danger'] if dia in ['Monday', 'Friday'] else COLORS['primary'] \n        for dia in dias_ordem\n    ]),\n    text=[f\"{v:,}\" for v in dist_dia_semana.values],\n    textposition='outside'\n)])\n\n# Adicionar linha de média\nmedia = dist_dia_semana.mean()\nfig.add_hline(y=media, line_dash='dash', line_color='red', \n              annotation_text=f'Média: {media:.0f}',\n              annotation_position='right')\n\nfig.update_layout(\n    title='Distribuição de Ausências e Atrasos por Dia da Semana',\n    xaxis_title='Dia da Semana',\n    yaxis_title='Número de Ocorrências',\n    height=450\n)\n\nfig.show()\n\n# Estatísticas\nprint('\\n📊 Análise por Dia da Semana:')\nfor dia_en, dia_pt, count in zip(dias_ordem, dias_pt, dist_dia_semana.values):\n    pct = count / dist_dia_semana.sum() * 100\n    diff_media = (count - media) / media * 100\n    simbolo = '🔴' if diff_media > 10 else '🟢' if diff_media < -10 else '⚪'\n    print(f'  {simbolo} {dia_pt}: {count:,} ({pct:.1f}%) - {diff_media:+.1f}% vs média')"
  },
  {
   "cell_type": "markdown",
   "metadata": {},
   "source": [
    "### Heatmap: Dia da Semana vs Semana do Mês"
   ]
  },
  {
   "cell_type": "code",
   "execution_count": null,
   "metadata": {},
   "outputs": [],
   "source": [
    "# Criar heatmap\n",
    "heatmap_data = df_problemas.groupby(['dia_semana', 'semana_mes']).size().unstack(fill_value=0)\n",
    "heatmap_data.index = heatmap_data.index.map(dict(zip(range(7), dias_pt)))\n",
    "\n",
    "fig = go.Figure(data=go.Heatmap(\n",
    "    z=heatmap_data.values,\n",
    "    x=[f'Semana {i}' for i in heatmap_data.columns],\n",
    "    y=heatmap_data.index,\n",
    "    colorscale='Reds',\n",
    "    text=heatmap_data.values,\n",
    "    texttemplate='%{text}',\n",
    "    textfont={\"size\":10},\n",
    "    colorbar=dict(title='Ocorrências')\n",
    "))\n",
    "\n",
    "fig.update_layout(\n",
    "    title='Heatmap: Padrão de Faltas/Atrasos por Dia da Semana e Semana do Mês',\n",
    "    xaxis_title='Semana do Mês',\n",
    "    yaxis_title='Dia da Semana',\n",
    "    height=400\n",
    ")\n",
    "\n",
    "fig.show()"
   ]
  },
  {
   "cell_type": "markdown",
   "metadata": {},
   "source": [
    "---\n\n",
    "# SEÇÃO 3: Teste de Aleatoriedade\n\n",
    "## Pergunta 6: Se as faltas fossem aleatórias, a distribuição seria uniforme?\n\n",
    "**Hipótese**: Se colaboradores faltassem de forma aleatória (sem preferência por dias específicos),\n",
    "esperaríamos que a distribuição de faltas por dia da semana fosse proporcional ao número de\n",
    "colaboradores que trabalham em cada dia.\n\n",
    "Vamos testar esta hipótese estatisticamente."
   ]
  },
  {
   "cell_type": "code",
   "execution_count": null,
   "metadata": {},
   "outputs": [],
   "source": [
    "# Contar dias de trabalho disponíveis por dia da semana (total de oportunidades)\n",
    "# Usando TODOS os registros (não só problemas)\n",
    "oportunidades_por_dia = df['nome_dia_semana'].value_counts().reindex(dias_ordem)\n",
    "\n",
    "# Contar faltas/atrasos observados por dia da semana\n",
    "observado = df_problemas['nome_dia_semana'].value_counts().reindex(dias_ordem)\n",
    "\n",
    "# Calcular o esperado se fosse aleatório (proporcional às oportunidades)\n",
    "proporcao_esperada = oportunidades_por_dia / oportunidades_por_dia.sum()\n",
    "total_problemas = observado.sum()\n",
    "esperado = proporcao_esperada * total_problemas\n",
    "\n",
    "# Teste Chi-quadrado\n",
    "from scipy.stats import chisquare\n",
    "chi2_stat, p_value = chisquare(f_obs=observado, f_exp=esperado)\n",
    "\n",
    "# Criar tabela comparativa\n",
    "comparacao = pd.DataFrame({\n",
    "    'Dia': dias_pt,\n",
    "    'Observado': observado.values,\n",
    "    'Esperado (Aleatório)': esperado.values.round(0).astype(int),\n",
    "    'Diferença': (observado.values - esperado.values).round(0).astype(int),\n",
    "    'Diferença %': ((observado.values - esperado.values) / esperado.values * 100).round(1)\n",
    "})\n",
    "\n",
    "print('='*90)\n",
    "print('🎲 TESTE DE ALEATORIEDADE - DIA DA SEMANA')\n",
    "print('='*90)\n",
    "print('\\nHipótese Nula (H0): Faltas são distribuídas aleatoriamente por dia da semana')\n",
    "print(f'\\nResultado do Teste Chi-Quadrado:')\n",
    "print(f'  χ² = {chi2_stat:.2f}')\n",
    "print(f'  p-value = {p_value:.6f}')\n",
    "\n",
    "if p_value < 0.001:\n",
    "    print(f'\\n🔴 CONCLUSÃO: Rejeitamos H0 com alta confiança (p < 0.001)')\n",
    "    print(f'   As faltas NÃO são aleatórias - há padrões claros!')\n",
    "else:\n",
    "    print(f'\\n🟢 CONCLUSÃO: Não podemos rejeitar H0')\n",
    "    print(f'   As faltas parecem ser aleatórias')\n",
    "\n",
    "print('\\n' + '='*90)\n",
    "print('\\nTabela Comparativa:')\n",
    "print(comparacao.to_string(index=False))\n",
    "print('='*90)"
   ]
  },
  {
   "cell_type": "code",
   "execution_count": null,
   "metadata": {},
   "outputs": [],
   "source": [
    "# Visualização: Observado vs Esperado\n",
    "fig = go.Figure()\n",
    "\n",
    "fig.add_trace(go.Bar(\n",
    "    x=dias_pt,\n",
    "    y=observado.values,\n",
    "    name='Observado (Real)',\n",
    "    marker=dict(color=COLORS['danger']),\n",
    "    text=[f\"{v:,}\" for v in observado.values],\n",
    "    textposition='outside'\n",
    "))\n",
    "\n",
    "fig.add_trace(go.Bar(\n",
    "    x=dias_pt,\n",
    "    y=esperado.values,\n",
    "    name='Esperado (Se Aleatório)',\n",
    "    marker=dict(color=COLORS['info'], opacity=0.6),\n",
    "    text=[f\"{v:.0f}\" for v in esperado.values],\n",
    "    textposition='outside'\n",
    "))\n",
    "\n",
    "fig.update_layout(\n",
    "    title='Teste de Aleatoriedade: Observado vs Esperado',\n",
    "    xaxis_title='Dia da Semana',\n",
    "    yaxis_title='Número de Faltas/Atrasos',\n",
    "    barmode='group',\n",
    "    height=500\n",
    ")\n",
    "\n",
    "fig.show()"
   ]
  },
  {
   "cell_type": "markdown",
   "metadata": {},
   "source": [
    "## Pergunta 7: Há concentração de faltas no início ou fim do mês?"
   ]
  },
  {
   "cell_type": "code",
   "execution_count": null,
   "metadata": {},
   "outputs": [],
   "source": [
    "# Categorizar por período do mês\n",
    "def categorizar_periodo(dia):\n",
    "    if dia <= 7:\n",
    "        return 'Início (1-7)'\n",
    "    elif dia <= 15:\n",
    "        return 'Meio-Início (8-15)'\n",
    "    elif dia <= 22:\n",
    "        return 'Meio-Fim (16-22)'\n",
    "    else:\n",
    "        return 'Fim (23+)'\n",
    "\n",
    "df_problemas['periodo_mes'] = df_problemas['dia'].apply(categorizar_periodo)\n",
    "\n",
    "# Contar observado\n",
    "periodos_ordem = ['Início (1-7)', 'Meio-Início (8-15)', 'Meio-Fim (16-22)', 'Fim (23+)']\n",
    "observado_periodo = df_problemas['periodo_mes'].value_counts().reindex(periodos_ordem)\n",
    "\n",
    "# Calcular esperado (se aleatório, seria proporcional aos dias disponíveis)\n",
    "# Início: 7 dias, Meio-Início: 8 dias, Meio-Fim: 7 dias, Fim: ~8 dias (média)\n",
    "dias_por_periodo = [7, 8, 7, 8]  # aproximação\n",
    "proporcao_periodo = np.array(dias_por_periodo) / sum(dias_por_periodo)\n",
    "esperado_periodo = proporcao_periodo * observado_periodo.sum()\n",
    "\n",
    "# Teste Chi-quadrado\n",
    "chi2_periodo, p_value_periodo = chisquare(f_obs=observado_periodo, f_exp=esperado_periodo)\n",
    "\n",
    "print('='*90)\n",
    "print('🎲 TESTE DE ALEATORIEDADE - PERÍODO DO MÊS')\n",
    "print('='*90)\n",
    "print(f'\\nResultado do Teste Chi-Quadrado:')\n",
    "print(f'  χ² = {chi2_periodo:.2f}')\n",
    "print(f'  p-value = {p_value_periodo:.6f}')\n",
    "\n",
    "if p_value_periodo < 0.05:\n",
    "    print(f'\\n🔴 CONCLUSÃO: Rejeitamos H0 (p < 0.05)')\n",
    "    print(f'   Há padrão significativo ao longo do mês!')\n",
    "else:\n",
    "    print(f'\\n🟢 CONCLUSÃO: Distribuição compatível com aleatoriedade')\n",
    "\n",
    "# Tabela\n",
    "comparacao_periodo = pd.DataFrame({\n",
    "    'Período': periodos_ordem,\n",
    "    'Observado': observado_periodo.values,\n",
    "    'Esperado': esperado_periodo.round(0).astype(int),\n",
    "    'Diferença %': ((observado_periodo.values - esperado_periodo) / esperado_periodo * 100).round(1)\n",
    "})\n",
    "\n",
    "print('\\n' + comparacao_periodo.to_string(index=False))\n",
    "print('='*90)\n",
    "\n",
    "# Gráfico\n",
    "fig = go.Figure()\n",
    "\n",
    "fig.add_trace(go.Bar(\n",
    "    x=periodos_ordem,\n",
    "    y=observado_periodo.values,\n",
    "    name='Observado',\n",
    "    marker=dict(color=COLORS['warning'])\n",
    "))\n",
    "\n",
    "fig.add_trace(go.Bar(\n",
    "    x=periodos_ordem,\n",
    "    y=esperado_periodo,\n",
    "    name='Esperado (Aleatório)',\n",
    "    marker=dict(color=COLORS['info'], opacity=0.6)\n",
    "))\n",
    "\n",
    "fig.update_layout(\n",
    "    title='Distribuição de Faltas por Período do Mês',\n",
    "    xaxis_title='Período',\n",
    "    yaxis_title='Número de Ocorrências',\n",
    "    barmode='group',\n",
    "    height=450\n",
    ")\n",
    "\n",
    "fig.show()"
   ]
  },
  {
   "cell_type": "markdown",
   "metadata": {},
   "source": [
    "---\n\n",
    "# SEÇÃO 4: Análise de Atrasos\n\n",
    "## Pergunta 8: Os atrasos seguem os mesmos padrões que as faltas?"
   ]
  },
  {
   "cell_type": "code",
   "execution_count": null,
   "metadata": {},
   "outputs": [],
   "source": "# Filtrar apenas atrasos (agora disponível em nivel_4)\ndf_atrasos = df[df['nivel_4'] == 'Atraso'].copy()\n\nprint(f'Total de dias com atrasos: {len(df_atrasos):,}')\nprint(f'Percentagem do total de dias: {len(df_atrasos)/len(df)*100:.2f}%')\nprint(f'Percentagem dos dias-problema (ausências + atrasos): {len(df_atrasos)/len(df_problemas)*100:.1f}%')\n\n# Distribuição por dia da semana\natrasos_dia = df_atrasos['nome_dia_semana'].value_counts().reindex(dias_ordem)\n\nfig = go.Figure(data=[go.Bar(\n    x=dias_pt,\n    y=atrasos_dia.values,\n    marker=dict(color=COLORS['warning']),\n    text=[f\"{v:,}\" for v in atrasos_dia.values],\n    textposition='outside'\n)])\n\nmedia_atrasos = atrasos_dia.mean()\nfig.add_hline(y=media_atrasos, line_dash='dash', line_color='red',\n              annotation_text=f'Média: {media_atrasos:.0f}')\n\nfig.update_layout(\n    title='Distribuição de Atrasos por Dia da Semana',\n    xaxis_title='Dia',\n    yaxis_title='Número de Atrasos',\n    height=450\n)\n\nfig.show()\n\n# Análise\nprint('\\n📊 Padrão de Atrasos:')\nfor dia_pt, count in zip(dias_pt, atrasos_dia.values):\n    diff = (count - media_atrasos) / media_atrasos * 100\n    simbolo = '🔴' if diff > 10 else '🟢' if diff < -10 else '⚪'\n    print(f'  {simbolo} {dia_pt}: {count:,} ({diff:+.1f}% vs média)')"
  },
  {
   "cell_type": "markdown",
   "metadata": {},
   "source": [
    "---\n\n",
    "# SEÇÃO 5: Segmentação\n\n",
    "## Pergunta 9: Os padrões variam por Categoria Profissional ou Operação?"
   ]
  },
  {
   "cell_type": "code",
   "execution_count": null,
   "metadata": {},
   "outputs": [],
   "source": "# Taxa de absentismo por categoria profissional (Top 10)\ntop_categorias = df['categoria_profissional'].value_counts().head(10).index\ndf_top_cat = df[df['categoria_profissional'].isin(top_categorias)]\n\n# Calcular taxa (usando df_problemas: ausências + atrasos)\nproblemas_cat = df_top_cat[(df_top_cat['nivel_1'] == 'Ausência') | (df_top_cat['nivel_4'] == 'Atraso')].groupby('categoria_profissional').size()\ntotal_cat = df_top_cat.groupby('categoria_profissional').size()\ntaxa_cat = (problemas_cat / total_cat * 100).sort_values(ascending=False)\n\nfig = go.Figure(data=[go.Bar(\n    y=taxa_cat.index,\n    x=taxa_cat.values,\n    orientation='h',\n    marker=dict(color=COLORS['primary']),\n    text=[f\"{v:.1f}%\" for v in taxa_cat.values],\n    textposition='outside'\n)])\n\nfig.update_layout(\n    title='Taxa de Absentismo por Categoria Profissional (Top 10)',\n    xaxis_title='Taxa (%)',\n    yaxis_title='Categoria',\n    height=500\n)\n\nfig.show()\n\nprint(f'\\n📊 Variação entre categorias:')\nprint(f'  Maior taxa: {taxa_cat.index[0]} ({taxa_cat.values[0]:.1f}%)')\nprint(f'  Menor taxa: {taxa_cat.index[-1]} ({taxa_cat.values[-1]:.1f}%)')\nprint(f'  Diferença: {taxa_cat.values[0] - taxa_cat.values[-1]:.1f} pontos percentuais')"
  },
  {
   "cell_type": "code",
   "execution_count": null,
   "metadata": {},
   "outputs": [],
   "source": "# Top 15 operações por taxa de absentismo\ntop_ops = df['operacao'].value_counts().head(15).index\ndf_top_ops = df[df['operacao'].isin(top_ops)]\n\nproblemas_ops = df_top_ops[(df_top_ops['nivel_1'] == 'Ausência') | (df_top_ops['nivel_4'] == 'Atraso')].groupby('operacao').size()\ntotal_ops = df_top_ops.groupby('operacao').size()\ntaxa_ops = (problemas_ops / total_ops * 100).sort_values(ascending=False)\n\nfig = go.Figure(data=[go.Bar(\n    y=taxa_ops.index,\n    x=taxa_ops.values,\n    orientation='h',\n    marker=dict(color=[\n        COLORS['danger'] if v > 7 else COLORS['warning'] if v > 5 else COLORS['success']\n        for v in taxa_ops.values\n    ]),\n    text=[f\"{v:.1f}%\" for v in taxa_ops.values],\n    textposition='outside'\n)])\n\nfig.update_layout(\n    title='Taxa de Absentismo por Operação (Top 15)',\n    xaxis_title='Taxa (%)',\n    yaxis_title='Operação',\n    height=600\n)\n\nfig.show()"
  },
  {
   "cell_type": "markdown",
   "metadata": {},
   "source": [
    "---\n\n",
    "# SEÇÃO 6: Red Flags e Abusos Óbvios 🚨\n\n",
    "## Pergunta 10: Há evidências de abuso no uso de códigos específicos?\n\n",
    "Vamos investigar padrões impossíveis ou altamente suspeitos a nível do código detalhado (Nível 1)."
   ]
  },
  {
   "cell_type": "markdown",
   "metadata": {},
   "source": [
    "### Red Flag 1: Exames Escolares aos Fins de Semana???"
   ]
  },
  {
   "cell_type": "code",
   "execution_count": null,
   "metadata": {},
   "outputs": [],
   "source": [
    "# Procurar ExameEscolar aos fins de semana\n",
    "exames_fds = df[(df['segmento_processado_codigo'] == 'ExameEscolar') & \n",
    "                (df['dia_semana'].isin([5, 6]))].copy()\n",
    "\n",
    "print('='*80)\n",
    "print('🚨 RED FLAG 1: EXAMES ESCOLARES AOS FINS DE SEMANA')\n",
    "print('='*80)\n",
    "\n",
    "if len(exames_fds) > 0:\n",
    "    print(f'\\n❌ ENCONTRADOS {len(exames_fds)} registros de \"ExameEscolar\" aos sábados/domingos!')\n",
    "    print(f'\\nColaboradores envolvidos: {exames_fds[\"login_colaborador\"].nunique()}')\n",
    "    print(f'\\nTop colaboradores com este padrão:')\n",
    "    top_exames_fds = exames_fds['nome_colaborador'].value_counts().head(10)\n",
    "    for nome, count in top_exames_fds.items():\n",
    "        print(f'  • {nome}: {count} exames aos FDS')\n",
    "    print(f'\\n💡 RECOMENDAÇÃO: Investigar estes casos - escolas não abrem aos fins de semana!')\n",
    "else:\n",
    "    print(f'\\n✅ Nenhum exame escolar registado aos fins de semana.')\n",
    "\n",
    "print('='*80)"
   ]
  },
  {
   "cell_type": "markdown",
   "metadata": {},
   "source": [
    "### Red Flag 2: Baixas Médicas Sempre Adjacentes a Fins de Semana"
   ]
  },
  {
   "cell_type": "code",
   "execution_count": null,
   "metadata": {},
   "outputs": [],
   "source": [
    "# Baixas médicas às segundas ou sextas (suspeito de extensão de FDS)\n",
    "baixas = df[df['segmento_processado_codigo'].isin(['BM', 'BMP'])].copy()\n",
    "baixas_seg_sex = baixas[baixas['dia_semana'].isin([0, 4])]\n",
    "\n",
    "print('='*80)\n",
    "print('🚨 RED FLAG 2: BAIXAS MÉDICAS ÀS SEGUNDAS/SEXTAS')\n",
    "print('='*80)\n",
    "\n",
    "total_baixas = len(baixas)\n",
    "baixas_suspeitas = len(baixas_seg_sex)\n",
    "pct_suspeito = baixas_suspeitas / total_baixas * 100\n",
    "\n",
    "print(f'\\nTotal de dias em baixa médica: {total_baixas:,}')\n",
    "print(f'Baixas às segundas ou sextas: {baixas_suspeitas:,} ({pct_suspeito:.1f}%)')\n",
    "\n",
    "# Se fosse aleatório, esperaríamos ~28.6% (2 dias em 7)\n",
    "esperado_pct = 28.6\n",
    "if pct_suspeito > esperado_pct + 5:\n",
    "    print(f'\\n⚠️ ATENÇÃO: Percentagem acima do esperado (esperado ~{esperado_pct:.1f}%)')\n",
    "    print(f'   Diferença: +{pct_suspeito - esperado_pct:.1f} pontos percentuais')\n",
    "\n",
    "# Top colaboradores com baixas às seg/sex\n",
    "print(f'\\nTop 10 colaboradores com mais baixas médicas às segundas/sextas:')\n",
    "top_baixas_fds = baixas_seg_sex.groupby(['login_colaborador', 'nome_colaborador']).size().sort_values(ascending=False).head(10)\n",
    "for (login, nome), count in top_baixas_fds.items():\n",
    "    print(f'  • {nome} (ID: {login}): {count} baixas às seg/sex')\n",
    "\n",
    "print('='*80)"
   ]
  },
  {
   "cell_type": "markdown",
   "metadata": {},
   "source": [
    "### Red Flag 3: Colaboradores com Faltas Injustificadas Recorrentes"
   ]
  },
  {
   "cell_type": "code",
   "execution_count": null,
   "metadata": {},
   "outputs": [],
   "source": "# Apenas colaboradores ativos\ndf_ativos = df[df['is_ativo'] == 1]\n\n# Faltas Injustificadas (usar nivel_2)\nfaltas_inj = df_ativos[df_ativos['nivel_2'] == 'Ausência Injustificada']\n\nprint('='*80)\nprint('🚨 RED FLAG 3: FALTAS INJUSTIFICADAS RECORRENTES (ATIVOS)')\nprint('='*80)\n\n# Contar por colaborador\nfaltas_por_colab = faltas_inj.groupby(['login_colaborador', 'nome_colaborador', 'operacao']).size().sort_values(ascending=False)\n\n# Casos graves (>=10 faltas injustificadas)\ncasos_graves = faltas_por_colab[faltas_por_colab >= 10]\n\nprint(f'\\nTotal de colaboradores ativos com faltas injustificadas: {len(faltas_por_colab)}')\nprint(f'Casos graves (≥10 faltas injustificadas): {len(casos_graves)}')\n\nif len(casos_graves) > 0:\n    print(f'\\n🔴 TOP 20 CASOS GRAVES:')\n    for (login, nome, op), count in casos_graves.head(20).items():\n        print(f'  • {nome} ({op}): {count} faltas injustificadas')\nelse:\n    print(f'\\n✅ Nenhum caso com ≥10 faltas injustificadas')\n\nprint('='*80)"
  },
  {
   "cell_type": "markdown",
   "metadata": {},
   "source": [
    "### Red Flag 4: Padrão \"Segunda ou Sexta\""
   ]
  },
  {
   "cell_type": "code",
   "execution_count": null,
   "metadata": {},
   "outputs": [],
   "source": "# Colaboradores que faltam MUITO às segundas ou sextas\n# Usar nivel_1 == 'Ausência' para capturar todas as ausências (justificadas e injustificadas)\nfaltas_total = df_ativos[df_ativos['nivel_1'] == 'Ausência']\n\n# Por colaborador\nfaltas_seg = faltas_total[faltas_total['dia_semana'] == 0].groupby('login_colaborador').size()\nfaltas_sex = faltas_total[faltas_total['dia_semana'] == 4].groupby('login_colaborador').size()\nfaltas_total_count = faltas_total.groupby('login_colaborador').size()\n\n# Calcular %\npct_seg = (faltas_seg / faltas_total_count * 100).fillna(0)\npct_sex = (faltas_sex / faltas_total_count * 100).fillna(0)\n\n# Filtrar suspeitos (>=40% às segundas OU sextas, mínimo 5 faltas)\nsuspeitos_seg = pct_seg[(pct_seg >= 40) & (faltas_total_count >= 5)].sort_values(ascending=False)\nsuspeitos_sex = pct_sex[(pct_sex >= 40) & (faltas_total_count >= 5)].sort_values(ascending=False)\n\nprint('='*80)\nprint('🚨 RED FLAG 4: PADRÃO \"EXTENSÃO DE FIM DE SEMANA\"')\nprint('='*80)\n\nprint(f'\\nColaboradores com ≥40% de faltas às SEGUNDAS (mín. 5 faltas): {len(suspeitos_seg)}')\nif len(suspeitos_seg) > 0:\n    print(f'\\nTop 10:')\n    for login in suspeitos_seg.head(10).index:\n        nome = df_ativos[df_ativos['login_colaborador'] == login]['nome_colaborador'].iloc[0]\n        total = faltas_total_count[login]\n        pct = suspeitos_seg[login]\n        print(f'  • {nome}: {pct:.0f}% das faltas às segundas ({faltas_seg.get(login, 0)}/{total} faltas)')\n\nprint(f'\\n\\nColaboradores com ≥40% de faltas às SEXTAS (mín. 5 faltas): {len(suspeitos_sex)}')\nif len(suspeitos_sex) > 0:\n    print(f'\\nTop 10:')\n    for login in suspeitos_sex.head(10).index:\n        nome = df_ativos[df_ativos['login_colaborador'] == login]['nome_colaborador'].iloc[0]\n        total = faltas_total_count[login]\n        pct = suspeitos_sex[login]\n        print(f'  • {nome}: {pct:.0f}% das faltas às sextas ({faltas_sex.get(login, 0)}/{total} faltas)')\n\nprint('='*80)"
  },
  {
   "cell_type": "markdown",
   "metadata": {},
   "source": [
    "---\n\n",
    "# SEÇÃO 7: Conclusões e Recomendações\n\n",
    "## Sumário Executivo"
   ]
  },
  {
   "cell_type": "code",
   "execution_count": null,
   "metadata": {},
   "outputs": [],
   "source": "print('='*90)\nprint('📊 SUMÁRIO EXECUTIVO - ANÁLISE DE ABSENTISMO')\nprint('='*90)\n\nprint('\\n1️⃣ PANORAMA GERAL')\nprint(f'   • Período: {periodo_inicio.strftime(\"%d/%m/%Y\")} a {periodo_fim.strftime(\"%d/%m/%Y\")} ({dias_calendario} dias)')\nprint(f'   • Dias-colaborador analisados: {len(df):,}')\nprint(f'   • Colaboradores ativos: {colaboradores_ativos:,}')\n\n# Estatísticas por nível\ntaxa_ausencia_n1 = (df[df['nivel_1'] == 'Ausência'].shape[0] / len(df) * 100)\ntaxa_atrasos = (df[df['nivel_4'] == 'Atraso'].shape[0] / len(df) * 100)\ntaxa_total_problemas = (len(df_problemas) / len(df) * 100)\n\nprint(f'   • Taxa de Ausência (Nível 1): {taxa_ausencia_n1:.2f}%')\nprint(f'   • Taxa de Atrasos: {taxa_atrasos:.2f}%')\nprint(f'   • Taxa Total de Problemas (ausências + atrasos): {taxa_total_problemas:.2f}%')\n\nprint('\\n2️⃣ PADRÕES TEMPORAIS IDENTIFICADOS')\n# Calcular os insights principais\nseg_count = df_problemas[df_problemas['dia_semana'] == 0].shape[0]\nsex_count = df_problemas[df_problemas['dia_semana'] == 4].shape[0]\nseg_pct = seg_count / len(df_problemas) * 100\nsex_pct = sex_count / len(df_problemas) * 100\nesperado_dia = 100 / 7  # Se fosse uniforme\n\nprint(f'   • Segundas-feiras: {seg_pct:.1f}% das ausências/atrasos (esperado ~{esperado_dia:.1f}%)')\nprint(f'   • Sextas-feiras: {sex_pct:.1f}% das ausências/atrasos (esperado ~{esperado_dia:.1f}%)')\nprint(f'   • Teste estatístico: Distribuição NÃO é aleatória (p < 0.001)')\nif variacao_pct > 0:\n    print(f'   • Tendência: 🔴 PIOROU {abs(variacao_pct):.1f}% vs início')\nelse:\n    print(f'   • Tendência: 🟢 MELHOROU {abs(variacao_pct):.1f}% vs início')\n\nprint('\\n3️⃣ SEGMENTAÇÃO')\nprint(f'   • Categoria com maior taxa: {taxa_cat.index[0]} ({taxa_cat.values[0]:.1f}%)')\nprint(f'   • Operação com maior taxa: {taxa_ops.index[0]} ({taxa_ops.values[0]:.1f}%)')\nprint(f'   • Variação significativa entre operações: {taxa_ops.values[0] - taxa_ops.values[-1]:.1f} p.p.')\n\nprint('\\n4️⃣ RED FLAGS IDENTIFICADOS 🚨')\nprint(f'   • Exames escolares aos FDS: {len(exames_fds)} casos')\nprint(f'   • Baixas médicas seg/sex: {pct_suspeito:.1f}% (esperado ~28.6%)')\nprint(f'   • Casos graves (≥10 faltas injust.): {len(casos_graves)} colaboradores')\nprint(f'   • Padrão \"Segunda\": {len(suspeitos_seg)} colaboradores')\nprint(f'   • Padrão \"Sexta\": {len(suspeitos_sex)} colaboradores')\n\nprint('\\n5️⃣ CLASSIFICAÇÃO HIERÁRQUICA')\nprint(f'   Nível 1 (Presença vs Ausência):')\nfor cat in dist_nivel1.index:\n    pct = dist_nivel1[cat] / len(df) * 100\n    print(f'     • {cat}: {pct:.2f}%')\nprint(f'   Nível 2 (4 categorias) - Top 3:')\nfor cat in dist_nivel2.index[::-1][:3]:\n    pct = dist_nivel2[cat] / len(df) * 100\n    print(f'     • {cat}: {pct:.2f}%')\n\nprint('\\n' + '='*90)"
  },
  {
   "cell_type": "markdown",
   "metadata": {},
   "source": [
    "## Principais Insights e Recomendações"
   ]
  },
  {
   "cell_type": "code",
   "execution_count": null,
   "metadata": {},
   "outputs": [],
   "source": [
    "print('='*90)\n",
    "print('💡 PRINCIPAIS INSIGHTS')\n",
    "print('='*90)\n",
    "\n",
    "insights = [\n",
    "    '1. PADRÃO NÃO ALEATÓRIO: Teste estatístico confirma que faltas não são aleatórias.',\n",
    "    '   Há clara concentração às segundas e sextas-feiras (extensão de fim de semana).',\n",
    "    '',\n",
    "    '2. CASOS FLAGRANTES: Identificados casos de fraude evidente (exames escolares aos FDS).',\n",
    "    '   Requer ação disciplinar imediata.',\n",
    "    '',\n",
    "    '3. COMPORTAMENTO ESTRATÉGICO: Grupos significativos de colaboradores demonstram',\n",
    "    '   padrões consistentes de faltas em dias específicos.',\n",
    "    '',\n",
    "    '4. VARIAÇÃO POR OPERAÇÃO: Diferenças significativas entre operações sugerem',\n",
    "    '   possíveis problemas de gestão ou cultura em áreas específicas.',\n",
    "]\n",
    "\n",
    "for insight in insights:\n",
    "    print(insight)\n",
    "\n",
    "print('\\n' + '='*90)\n",
    "print('🎯 RECOMENDAÇÕES PRIORITÁRIAS')\n",
    "print('='*90)\n",
    "\n",
    "recomendacoes = [\n",
    "    '\\nPRIORIDADE ALTA (Ação Imediata):',\n",
    "    '  1. Investigar casos de fraude (exames escolares aos FDS)',\n",
    "    '  2. Reuniões disciplinares com colaboradores ≥10 faltas injustificadas',\n",
    "    '  3. Advertências formais para padrão \"Segunda/Sexta\" recorrente',\n",
    "    '',\n",
    "    'PRIORIDADE MÉDIA (Curto Prazo):',\n",
    "    '  4. Implementar sistema de alertas automático para padrões suspeitos',\n",
    "    '  5. Revisão de processos nas operações com taxa > 7%',\n",
    "    '  6. Verificação rigorosa de baixas médicas às segundas/sextas',\n",
    "    '',\n",
    "    'PRIORIDADE NORMAL (Médio Prazo):',\n",
    "    '  7. Programa de sensibilização sobre impacto do absentismo',\n",
    "    '  8. Reconhecimento de colaboradores com baixo absentismo',\n",
    "    '  9. Revisão trimestral de métricas por operação',\n",
    "    '',\n",
    "    'FERRAMENTAS:',\n",
    "    '  • Dashboard de monitorização em tempo real',\n",
    "    '  • Relatórios mensais por gestor',\n",
    "    '  • Sistema de scoring de risco por colaborador',\n",
    "]\n",
    "\n",
    "for rec in recomendacoes:\n",
    "    print(rec)\n",
    "\n",
    "print('\\n' + '='*90)\n",
    "print('✅ ANÁLISE CONCLUÍDA')\n",
    "print('='*90)"
   ]
  },
  {
   "cell_type": "markdown",
   "metadata": {},
   "source": [
    "---\n\n",
    "## Próximos Passos\n\n",
    "1. **Apresentar** este relatório à direção\n",
    "2. **Exportar** listas de colaboradores para ação (ver notebooks de suporte)\n",
    "3. **Implementar** sistema de monitorização contínua\n",
    "4. **Reavaliar** em 3 meses para medir impacto das ações\n\n",
    "---\n\n",
    "**Nota**: Este notebook foi criado para storytelling baseado em dados.\n",
    "Para análises ad-hoc e consultas individuais, consultar notebooks complementares."
   ]
  }
 ],
 "metadata": {
  "kernelspec": {
   "display_name": "Python 3",
   "language": "python",
   "name": "python3"
  },
  "language_info": {
   "name": "python",
   "version": "3.11.0"
  }
 },
 "nbformat": 4,
 "nbformat_minor": 2
}