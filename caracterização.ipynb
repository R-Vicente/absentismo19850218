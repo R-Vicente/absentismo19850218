{
 "cells": [
  {
   "cell_type": "markdown",
   "execution_count": null,
   "id": "9da408ac-5c30-4dce-b062-8a73009b483b",
   "metadata": {},
   "outputs": [],
   "source": "# Análise de Absentismo - Caracterização Completa\n\n## Objetivo\nCaracterização detalhada do absentismo na empresa, analisando padrões temporais, por operação/segmento/categoria profissional, e identificando comportamentos de alerta em colaboradores ativos.\n\n## Estrutura da Análise\n1. **Preparação dos Dados**: Carregamento, limpeza e criação de variáveis derivadas\n2. **Análise Geral**: Overview do absentismo a nível empresa\n3. **Análise por Segmentação**: Operação, Segmento, Categoria Profissional, Departamento\n4. **Análise Temporal**: Padrões semanais, mensais e sazonais\n5. **Detecção de Padrões de Alerta**: Red flags em colaboradores ativos\n6. **Visualizações e Relatório**: Dashboards e sumário executivo\n\n---"
  },
  {
   "cell_type": "markdown",
   "id": "fiosjrrg6i",
   "source": "## 1. Imports e Configurações",
   "metadata": {}
  },
  {
   "cell_type": "code",
   "id": "rpat307534",
   "source": "# Imports\nimport pandas as pd\nimport numpy as np\nimport matplotlib.pyplot as plt\nimport seaborn as sns\nfrom datetime import datetime\nimport warnings\n\n# Configurações\nwarnings.filterwarnings('ignore')\npd.set_option('display.max_columns', None)\npd.set_option('display.max_rows', 100)\npd.set_option('display.float_format', lambda x: '%.2f' % x)\n\n# Configuração de visualizações\nplt.style.use('seaborn-v0_8-darkgrid')\nsns.set_palette(\"husl\")\nplt.rcParams['figure.figsize'] = (14, 6)\nplt.rcParams['font.size'] = 10\n\nprint(\"✅ Imports e configurações carregadas com sucesso!\")",
   "metadata": {},
   "execution_count": null,
   "outputs": []
  },
  {
   "cell_type": "markdown",
   "id": "qv7ya24ectg",
   "source": "## 2. Carregamento dos Códigos e Dataset\n\n### 2.1 Carregamento dos Códigos (Excel)",
   "metadata": {}
  },
  {
   "cell_type": "code",
   "id": "9tb8tokxfv9",
   "source": "# Carregar códigos do Excel\ncodigos = pd.read_excel('códigos.xlsx')\n\n# Renomear coluna para facilitar\ncodigos.columns = ['codigo', 'nivel_2', 'descricao', 'nivel_3']\n\n# Limpar espaços\ncodigos['codigo'] = codigos['codigo'].str.strip()\ncodigos['nivel_2'] = codigos['nivel_2'].str.strip()\ncodigos['nivel_3'] = codigos['nivel_3'].str.strip()\n\nprint(f\"✅ Códigos carregados: {len(codigos)} códigos\")\nprint(f\"\\nNível 2 - Categorias: {codigos['nivel_2'].nunique()}\")\nprint(codigos['nivel_2'].value_counts())\nprint(f\"\\nNível 3 - Agrupamento principal:\")\nprint(codigos['nivel_3'].value_counts())\n\n# Mostrar alguns exemplos\nprint(\"\\n📋 Exemplos de códigos:\")\ncodigos.head(10)",
   "metadata": {},
   "execution_count": null,
   "outputs": []
  },
  {
   "cell_type": "markdown",
   "id": "yovozy0ihe",
   "source": "### 2.2 Carregamento do Dataset Principal\n\n**Nota**: O ficheiro `combined_data.csv` deve estar no mesmo diretório que este notebook.",
   "metadata": {}
  },
  {
   "cell_type": "code",
   "id": "75yiwsvwaoo",
   "source": "# Carregar dataset principal\nprint(\"Carregando dataset (isto pode demorar alguns segundos)...\")\n\n# Definir tipos de dados para otimizar memória\ndtype_dict = {\n    'login_colaborador': 'int32',\n    'nome_colaborador': 'str',\n    'categoria_profissional': 'category',\n    'segmento': 'category',\n    'operacao': 'category',\n    'departamento': 'category',\n    'segmento_processado_codigo': 'category',\n    'codigo_nivel_2': 'category',\n    'Contagem_ID': 'int8',\n    'Activo?': 'category'\n}\n\n# Carregar dados\ndf = pd.read_csv('combined_data.csv', \n                 sep=',',\n                 dtype=dtype_dict,\n                 parse_dates=['Data'],\n                 encoding='utf-8')\n\n# Informações básicas\nprint(f\"✅ Dataset carregado com sucesso!\")\nprint(f\"\\n📊 Dimensões: {df.shape[0]:,} linhas x {df.shape[1]} colunas\")\nprint(f\"📅 Período: {df['Data'].min().strftime('%d/%m/%Y')} a {df['Data'].max().strftime('%d/%m/%Y')}\")\nprint(f\"👥 Colaboradores únicos: {df['login_colaborador'].nunique():,}\")\nprint(f\"\\n💾 Uso de memória: {df.memory_usage(deep=True).sum() / 1024**2:.2f} MB\")\n\n# Primeiras linhas\nprint(\"\\n📋 Primeiras linhas do dataset:\")\ndf.head()",
   "metadata": {},
   "execution_count": null,
   "outputs": []
  },
  {
   "cell_type": "markdown",
   "id": "7y0kfwrky8k",
   "source": "## 3. Preparação e Enriquecimento dos Dados\n\n### 3.1 Merge com Códigos (Níveis 2 e 3)",
   "metadata": {}
  },
  {
   "cell_type": "code",
   "id": "kytsaqhqfsm",
   "source": "# Fazer merge do dataset com os códigos\n# Nota: segmento_processado_codigo é o código que vamos mapear\n\ndf = df.merge(\n    codigos[['codigo', 'nivel_2', 'nivel_3', 'descricao']], \n    left_on='segmento_processado_codigo', \n    right_on='codigo',\n    how='left'\n)\n\n# Remover coluna duplicada\ndf.drop('codigo', axis=1, inplace=True)\n\n# Renomear para facilitar\ndf.rename(columns={\n    'nivel_2': 'tipo_ausencia',\n    'nivel_3': 'categoria_absentismo',\n    'descricao': 'descricao_codigo'\n}, inplace=True)\n\n# Verificar merge\nprint(f\"✅ Merge concluído!\")\nprint(f\"\\nRegistros sem match: {df['tipo_ausencia'].isna().sum()}\")\nprint(f\"\\nDistribuição por Categoria de Absentismo (Nível 3):\")\nprint(df['categoria_absentismo'].value_counts())\nprint(f\"\\nDistribuição por Tipo de Ausência (Nível 2):\")\nprint(df['tipo_ausencia'].value_counts())",
   "metadata": {},
   "execution_count": null,
   "outputs": []
  },
  {
   "cell_type": "markdown",
   "id": "w038sk0pp8c",
   "source": "### 3.2 Criação de Variáveis Derivadas (Temporais e Flags)",
   "metadata": {}
  },
  {
   "cell_type": "code",
   "id": "matzdlgiesc",
   "source": "# Variáveis temporais\ndf['ano'] = df['Data'].dt.year\ndf['mes'] = df['Data'].dt.month\ndf['dia'] = df['Data'].dt.day\ndf['dia_semana'] = df['Data'].dt.dayofweek  # 0=Segunda, 6=Domingo\ndf['nome_dia_semana'] = df['Data'].dt.day_name()\ndf['semana_ano'] = df['Data'].dt.isocalendar().week\ndf['trimestre'] = df['Data'].dt.quarter\ndf['ano_mes'] = df['Data'].dt.to_period('M')\n\n# Semana do mês (1-5)\ndf['semana_mes'] = ((df['dia'] - 1) // 7) + 1\n\n# Flags úteis\ndf['is_segunda'] = (df['dia_semana'] == 0).astype(int)\ndf['is_sexta'] = (df['dia_semana'] == 4).astype(int)\ndf['is_fim_semana'] = (df['dia_semana'] >= 5).astype(int)\n\n# Início e fim de mês (primeiros 7 dias = início, últimos 7 = fim)\ndf['is_inicio_mes'] = (df['dia'] <= 7).astype(int)\ndf['is_fim_mes'] = (df['dia'] >= 23).astype(int)  # Aproximado para todos os meses\n\n# Flags de tipo de ausência (para análises rápidas)\ndf['is_falta_injustificada'] = (df['categoria_absentismo'] == 'Falta Injustificada').astype(int)\ndf['is_falta_justificada'] = (df['categoria_absentismo'] == 'Falta Justificada').astype(int)\ndf['is_atraso'] = (df['categoria_absentismo'] == 'Atraso').astype(int)\ndf['is_trabalho_pago'] = (df['categoria_absentismo'] == 'Trabalho Pago').astype(int)\ndf['is_ausencia_nao_contada'] = (df['categoria_absentismo'] == 'Ausência Não considerada no Absentismo').astype(int)\n\n# Flag de colaborador ativo\ndf['is_ativo'] = (df['Activo?'] == 'Sim').astype(int)\n\nprint(\"✅ Variáveis derivadas criadas com sucesso!\")\nprint(f\"\\n📅 Período completo: {df['ano_mes'].min()} a {df['ano_mes'].max()}\")\nprint(f\"\\nDistribuição por dia da semana:\")\nprint(df['nome_dia_semana'].value_counts())\nprint(f\"\\n👥 Colaboradores ativos: {df[df['is_ativo']==1]['login_colaborador'].nunique():,}\")\nprint(f\"👥 Colaboradores inativos: {df[df['is_ativo']==0]['login_colaborador'].nunique():,}\")",
   "metadata": {},
   "execution_count": null,
   "outputs": []
  },
  {
   "cell_type": "markdown",
   "id": "cb26og1e8zc",
   "source": "### 3.3 Investigação: Registros aos Fins de Semana",
   "metadata": {}
  },
  {
   "cell_type": "code",
   "id": "h6ho2y4mrm",
   "source": "# Investigar registros aos fins de semana\nprint(\"=\"*80)\nprint(\"🔍 INVESTIGAÇÃO: O QUE ACONTECE AOS FINS DE SEMANA?\")\nprint(\"=\"*80)\n\n# Filtrar apenas sábados e domingos\ndf_fds = df[df['is_fim_semana'] == 1]\n\nprint(f\"\\n📊 Estatísticas Gerais:\")\nprint(f\"   Total de registros aos fins de semana: {len(df_fds):,}\")\nprint(f\"   Sábados: {len(df[df['dia_semana']==5]):,}\")\nprint(f\"   Domingos: {len(df[df['dia_semana']==6]):,}\")\nprint(f\"   Percentagem do total: {len(df_fds)/len(df)*100:.2f}%\")\n\n# Distribuição por código aos fins de semana\nprint(f\"\\n📋 Distribuição de Códigos aos Fins de Semana:\")\ndist_codigos_fds = df_fds['segmento_processado_codigo'].value_counts().head(10)\nfor cod, count in dist_codigos_fds.items():\n    pct = count / len(df_fds) * 100\n    # Buscar descrição\n    desc = codigos[codigos['codigo'] == cod]['descricao'].values\n    desc_texto = desc[0] if len(desc) > 0 else \"Sem descrição\"\n    print(f\"   {cod}: {count:,} ({pct:.2f}%) - {desc_texto[:60]}...\")\n\n# Distribuição por categoria de absentismo aos fins de semana\nprint(f\"\\n📊 Distribuição por Categoria de Absentismo (Nível 3) aos FDS:\")\ndist_cat_fds = df_fds['categoria_absentismo'].value_counts()\nfor cat, count in dist_cat_fds.items():\n    pct = count / len(df_fds) * 100\n    print(f\"   {cat}: {count:,} ({pct:.2f}%)\")\n\n# Verificar se há colaboradores que trabalham aos fins de semana\ntrabalho_fds = df_fds[df_fds['categoria_absentismo'] == 'Trabalho Pago']\nprint(f\"\\n💼 Trabalho Efetivo aos Fins de Semana:\")\nprint(f\"   Registros de 'Trabalho Pago' aos FDS: {len(trabalho_fds):,}\")\nif len(trabalho_fds) > 0:\n    colab_trabalham_fds = trabalho_fds['login_colaborador'].nunique()\n    print(f\"   Colaboradores que trabalham aos FDS: {colab_trabalham_fds:,}\")\n    \n    # Top operações que trabalham aos fins de semana\n    print(f\"\\n   Top Operações com Trabalho aos FDS:\")\n    top_op_fds = trabalho_fds['operacao'].value_counts().head(5)\n    for op, count in top_op_fds.items():\n        print(f\"      {op}: {count:,} registros\")\n\nprint(\"\\n\" + \"=\"*80)\nprint(\"💡 CONCLUSÃO:\")\nprint(\"   O código 'Ferias' é aplicado automaticamente aos FDS para evitar anomalias.\")\nprint(\"   Alguns colaboradores trabalham efetivamente aos fins de semana (call centers, etc.)\")\nprint(\"=\"*80)",
   "metadata": {},
   "execution_count": null,
   "outputs": []
  },
  {
   "cell_type": "markdown",
   "id": "fmdzy41usci",
   "source": "---\n\n## 4. FASE 2: Caracterização Geral do Absentismo (Nível Empresa)\n\n### 4.1 Overview Geral - KPIs Principais",
   "metadata": {}
  },
  {
   "cell_type": "code",
   "id": "90f18ci5lah",
   "source": "# KPIs Gerais\nprint(\"=\"*80)\nprint(\"📊 KPIs PRINCIPAIS - OVERVIEW GERAL\")\nprint(\"=\"*80)\n\n# Total de registros\ntotal_registros = len(df)\nprint(f\"\\n1️⃣ Total de registros: {total_registros:,}\")\n\n# Período\nprint(f\"2️⃣ Período analisado: {df['Data'].min().strftime('%d/%m/%Y')} a {df['Data'].max().strftime('%d/%m/%Y')}\")\ndias_total = (df['Data'].max() - df['Data'].min()).days + 1\nprint(f\"   Total de dias: {dias_total}\")\n\n# Colaboradores\ntotal_colaboradores = df['login_colaborador'].nunique()\ncolaboradores_ativos = df[df['is_ativo']==1]['login_colaborador'].nunique()\ncolaboradores_inativos = df[df['is_ativo']==0]['login_colaborador'].nunique()\nprint(f\"\\n3️⃣ Colaboradores:\")\nprint(f\"   Total únicos: {total_colaboradores:,}\")\nprint(f\"   Ativos: {colaboradores_ativos:,} ({colaboradores_ativos/total_colaboradores*100:.1f}%)\")\nprint(f\"   Inativos: {colaboradores_inativos:,} ({colaboradores_inativos/total_colaboradores*100:.1f}%)\")\n\n# Distribuição por categoria de absentismo (Nível 3)\nprint(f\"\\n4️⃣ Distribuição por Categoria de Absentismo (Nível 3):\")\ndist_nivel3 = df['categoria_absentismo'].value_counts()\nfor cat, count in dist_nivel3.items():\n    pct = count / total_registros * 100\n    print(f\"   {cat}: {count:,} ({pct:.2f}%)\")\n\n# Taxa de absentismo (excluindo \"Ausência Não considerada\" e \"Trabalho Pago\")\nregistros_absentismo = df[~df['categoria_absentismo'].isin(['Ausência Não considerada no Absentismo', 'Trabalho Pago'])]\ntaxa_absentismo = len(registros_absentismo) / total_registros * 100\n\nprint(f\"\\n5️⃣ Taxa de Absentismo Geral (excluindo ausências não contadas e trabalho pago):\")\nprint(f\"   {taxa_absentismo:.2f}% dos registros\")\nprint(f\"   {len(registros_absentismo):,} registros de absentismo\")\n\n# Faltas justificadas vs injustificadas\nfaltas_justificadas = df['is_falta_justificada'].sum()\nfaltas_injustificadas = df['is_falta_injustificada'].sum()\natrasos = df['is_atraso'].sum()\n\nprint(f\"\\n6️⃣ Breakdown de Absentismo:\")\nprint(f\"   Faltas Justificadas: {faltas_justificadas:,} ({faltas_justificadas/total_registros*100:.2f}%)\")\nprint(f\"   Faltas Injustificadas: {faltas_injustificadas:,} ({faltas_injustificadas/total_registros*100:.2f}%)\")\nprint(f\"   Atrasos: {atrasos:,} ({atrasos/total_registros*100:.2f}%)\")\n\nprint(\"\\n\" + \"=\"*80)",
   "metadata": {},
   "execution_count": null,
   "outputs": []
  },
  {
   "cell_type": "markdown",
   "id": "ixf2eivp63",
   "source": "### 4.2 Visualizações - Distribuição Geral",
   "metadata": {}
  },
  {
   "cell_type": "code",
   "id": "liwfn4qjod",
   "source": "# Gráfico 1: Distribuição por Categoria de Absentismo (Nível 3)\nfig, axes = plt.subplots(1, 2, figsize=(16, 6))\n\n# Pizza\ndist_nivel3 = df['categoria_absentismo'].value_counts()\ncolors = ['#2ecc71', '#e74c3c', '#f39c12', '#3498db', '#95a5a6']\naxes[0].pie(dist_nivel3.values, labels=dist_nivel3.index, autopct='%1.1f%%', \n            startangle=90, colors=colors)\naxes[0].set_title('Distribuição por Categoria de Absentismo (Nível 3)', fontsize=14, fontweight='bold')\n\n# Barras\ndist_nivel3.plot(kind='barh', ax=axes[1], color=colors)\naxes[1].set_title('Contagem por Categoria', fontsize=14, fontweight='bold')\naxes[1].set_xlabel('Número de Registros')\naxes[1].grid(axis='x', alpha=0.3)\n\nplt.tight_layout()\nplt.show()\n\n# Gráfico 2: Distribuição por Tipo de Ausência (Nível 2)\nfig, ax = plt.subplots(figsize=(14, 6))\ndist_nivel2 = df['tipo_ausencia'].value_counts()\ndist_nivel2.plot(kind='bar', ax=ax, color='steelblue', edgecolor='black')\nax.set_title('Distribuição por Tipo de Ausência (Nível 2)', fontsize=14, fontweight='bold')\nax.set_xlabel('Tipo de Ausência')\nax.set_ylabel('Número de Registros')\nax.set_xticklabels(ax.get_xticklabels(), rotation=45, ha='right')\nax.grid(axis='y', alpha=0.3)\n\n# Adicionar valores nas barras\nfor container in ax.containers:\n    ax.bar_label(container, fmt='%d', padding=3)\n\nplt.tight_layout()\nplt.show()",
   "metadata": {},
   "execution_count": null,
   "outputs": []
  },
  {
   "cell_type": "markdown",
   "id": "wz3ief8tyei",
   "source": "### 4.3 Evolução Temporal do Absentismo",
   "metadata": {}
  },
  {
   "cell_type": "code",
   "id": "z5ug5g8lxv",
   "source": "# Evolução mensal por categoria de absentismo\nevolucao_mensal = df.groupby(['ano_mes', 'categoria_absentismo']).size().unstack(fill_value=0)\n\n# Gráfico de evolução temporal\nfig, axes = plt.subplots(2, 1, figsize=(16, 10))\n\n# Gráfico 1: Evolução de todas as categorias (empilhado)\nevolucao_mensal.plot(kind='area', stacked=True, ax=axes[0], alpha=0.7, \n                     color=['#2ecc71', '#e74c3c', '#f39c12', '#3498db', '#95a5a6'])\naxes[0].set_title('Evolução Mensal do Absentismo por Categoria (Empilhado)', fontsize=14, fontweight='bold')\naxes[0].set_xlabel('Mês')\naxes[0].set_ylabel('Número de Registros')\naxes[0].legend(title='Categoria', bbox_to_anchor=(1.05, 1), loc='upper left')\naxes[0].grid(alpha=0.3)\n\n# Gráfico 2: Apenas Faltas e Atrasos (mais visível)\ncategorias_interesse = ['Falta Justificada', 'Falta Injustificada', 'Atraso']\nevolucao_faltas = evolucao_mensal[categorias_interesse]\nevolucao_faltas.plot(kind='line', ax=axes[1], marker='o', linewidth=2)\naxes[1].set_title('Evolução Mensal - Faltas e Atrasos', fontsize=14, fontweight='bold')\naxes[1].set_xlabel('Mês')\naxes[1].set_ylabel('Número de Registros')\naxes[1].legend(title='Tipo')\naxes[1].grid(alpha=0.3)\n\nplt.tight_layout()\nplt.show()\n\n# Tabela resumo mensal\nprint(\"\\n📊 Resumo Mensal - Faltas e Atrasos:\")\nresumo_mensal = df[df['categoria_absentismo'].isin(categorias_interesse)].groupby(['ano_mes', 'categoria_absentismo']).size().unstack(fill_value=0)\nresumo_mensal['Total'] = resumo_mensal.sum(axis=1)\nprint(resumo_mensal)",
   "metadata": {},
   "execution_count": null,
   "outputs": []
  },
  {
   "cell_type": "markdown",
   "id": "ysd69lt77lq",
   "source": "---\n\n## 5. FASE 3: Análise por Segmentação\n\n### 5.1 Análise por Operação",
   "metadata": {}
  },
  {
   "cell_type": "code",
   "id": "5ehtcs7zze3",
   "source": "# Análise por Operação\nprint(\"=\"*80)\nprint(\"📊 ANÁLISE POR OPERAÇÃO\")\nprint(\"=\"*80)\n\n# Distribuição de registros por operação\nprint(\"\\n1️⃣ Distribuição de Registros por Operação:\")\ndist_operacao = df['operacao'].value_counts()\nfor op, count in dist_operacao.items():\n    pct = count / len(df) * 100\n    print(f\"   {op}: {count:,} ({pct:.2f}%)\")\n\n# Taxa de absentismo por operação\nprint(\"\\n2️⃣ Taxa de Absentismo por Operação (Faltas + Atrasos):\")\nabsentismo_operacao = df[df['categoria_absentismo'].isin(['Falta Justificada', 'Falta Injustificada', 'Atraso'])].groupby('operacao').size()\ntotal_operacao = df.groupby('operacao').size()\ntaxa_operacao = (absentismo_operacao / total_operacao * 100).sort_values(ascending=False)\n\nfor op, taxa in taxa_operacao.items():\n    print(f\"   {op}: {taxa:.2f}%\")\n\n# Breakdown por tipo de ausência por operação\nprint(\"\\n3️⃣ Breakdown por Tipo de Ausência:\")\nbreakdown_operacao = df.groupby(['operacao', 'categoria_absentismo']).size().unstack(fill_value=0)\nbreakdown_operacao_pct = breakdown_operacao.div(breakdown_operacao.sum(axis=1), axis=0) * 100\nprint(breakdown_operacao_pct.round(2))\n\n# Visualização\nfig, axes = plt.subplots(1, 2, figsize=(16, 6))\n\n# Gráfico 1: Taxa de absentismo por operação\ntaxa_operacao.plot(kind='barh', ax=axes[0], color='coral', edgecolor='black')\naxes[0].set_title('Taxa de Absentismo por Operação (%)', fontsize=14, fontweight='bold')\naxes[0].set_xlabel('Taxa (%)')\naxes[0].grid(axis='x', alpha=0.3)\n\n# Gráfico 2: Distribuição por categoria (empilhado)\nbreakdown_operacao_pct.plot(kind='barh', stacked=True, ax=axes[1], \n                            color=['#2ecc71', '#e74c3c', '#f39c12', '#3498db', '#95a5a6'])\naxes[1].set_title('Distribuição de Categorias por Operação (%)', fontsize=14, fontweight='bold')\naxes[1].set_xlabel('Percentagem (%)')\naxes[1].legend(title='Categoria', bbox_to_anchor=(1.05, 1), loc='upper left')\naxes[1].grid(axis='x', alpha=0.3)\n\nplt.tight_layout()\nplt.show()\n\nprint(\"\\n\" + \"=\"*80)",
   "metadata": {},
   "execution_count": null,
   "outputs": []
  },
  {
   "cell_type": "markdown",
   "id": "34daoqnpz22",
   "source": "### 5.2 Análise por Segmento (Top 15)",
   "metadata": {}
  },
  {
   "cell_type": "code",
   "id": "vo7514105v",
   "source": "# Análise por Segmento (Top 15 segmentos com mais registros)\nprint(\"=\"*80)\nprint(\"📊 ANÁLISE POR SEGMENTO (Top 15)\")\nprint(\"=\"*80)\n\n# Top 15 segmentos\ntop_segmentos = df['segmento'].value_counts().head(15).index\ndf_top_segmentos = df[df['segmento'].isin(top_segmentos)]\n\n# Taxa de absentismo por segmento\nprint(\"\\n1️⃣ Taxa de Absentismo por Segmento (Faltas + Atrasos) - Top 15:\")\nabsentismo_segmento = df_top_segmentos[df_top_segmentos['categoria_absentismo'].isin(['Falta Justificada', 'Falta Injustificada', 'Atraso'])].groupby('segmento').size()\ntotal_segmento = df_top_segmentos.groupby('segmento').size()\ntaxa_segmento = (absentismo_segmento / total_segmento * 100).sort_values(ascending=False)\n\nfor seg, taxa in taxa_segmento.head(15).items():\n    print(f\"   {seg}: {taxa:.2f}%\")\n\n# Visualização\nfig, ax = plt.subplots(figsize=(14, 8))\ntaxa_segmento.plot(kind='barh', ax=ax, color='teal', edgecolor='black')\nax.set_title('Taxa de Absentismo por Segmento (%) - Top 15', fontsize=14, fontweight='bold')\nax.set_xlabel('Taxa (%)')\nax.grid(axis='x', alpha=0.3)\nplt.tight_layout()\nplt.show()\n\nprint(\"\\n\" + \"=\"*80)",
   "metadata": {},
   "execution_count": null,
   "outputs": []
  },
  {
   "cell_type": "markdown",
   "id": "rgyzyf4vak9",
   "source": "### 5.3 Análise por Categoria Profissional",
   "metadata": {}
  },
  {
   "cell_type": "code",
   "id": "jsav8lux03",
   "source": "# Análise por Categoria Profissional\nprint(\"=\"*80)\nprint(\"📊 ANÁLISE POR CATEGORIA PROFISSIONAL\")\nprint(\"=\"*80)\n\n# Distribuição\nprint(\"\\n1️⃣ Distribuição de Registros por Categoria Profissional:\")\ndist_categoria = df['categoria_profissional'].value_counts().head(10)\nfor cat, count in dist_categoria.items():\n    pct = count / len(df) * 100\n    print(f\"   {cat}: {count:,} ({pct:.2f}%)\")\n\n# Taxa de absentismo\nprint(\"\\n2️⃣ Taxa de Absentismo por Categoria Profissional (Top 10):\")\ntop_categorias = df['categoria_profissional'].value_counts().head(10).index\ndf_top_cat = df[df['categoria_profissional'].isin(top_categorias)]\n\nabsentismo_cat = df_top_cat[df_top_cat['categoria_absentismo'].isin(['Falta Justificada', 'Falta Injustificada', 'Atraso'])].groupby('categoria_profissional').size()\ntotal_cat = df_top_cat.groupby('categoria_profissional').size()\ntaxa_cat = (absentismo_cat / total_cat * 100).sort_values(ascending=False)\n\nfor cat, taxa in taxa_cat.items():\n    print(f\"   {cat}: {taxa:.2f}%\")\n\n# Visualização\nfig, axes = plt.subplots(1, 2, figsize=(16, 7))\n\n# Gráfico 1: Distribuição\ndist_categoria.plot(kind='barh', ax=axes[0], color='mediumpurple', edgecolor='black')\naxes[0].set_title('Top 10 Categorias Profissionais - Volume', fontsize=12, fontweight='bold')\naxes[0].set_xlabel('Número de Registros')\naxes[0].grid(axis='x', alpha=0.3)\n\n# Gráfico 2: Taxa de absentismo\ntaxa_cat.plot(kind='barh', ax=axes[1], color='orange', edgecolor='black')\naxes[1].set_title('Taxa de Absentismo por Categoria Profissional (%)', fontsize=12, fontweight='bold')\naxes[1].set_xlabel('Taxa (%)')\naxes[1].grid(axis='x', alpha=0.3)\n\nplt.tight_layout()\nplt.show()\n\nprint(\"\\n\" + \"=\"*80)",
   "metadata": {},
   "execution_count": null,
   "outputs": []
  },
  {
   "cell_type": "markdown",
   "id": "zbq9fza656h",
   "source": "---\n\n## 6. FASE 4: Análise Temporal e Padrões de Calendário\n\n### 6.1 Padrões Semanais (Dia da Semana)",
   "metadata": {}
  },
  {
   "cell_type": "code",
   "id": "hcc6k76g1h5",
   "source": "# Análise de padrões semanais\nprint(\"=\"*80)\nprint(\"📊 PADRÕES SEMANAIS - DIA DA SEMANA\")\nprint(\"=\"*80)\n\n# Análise geral por dia da semana\ndias_ordem = ['Monday', 'Tuesday', 'Wednesday', 'Thursday', 'Friday', 'Saturday', 'Sunday']\n\n# Apenas faltas e atrasos\ndf_faltas_atrasos = df[df['categoria_absentismo'].isin(['Falta Justificada', 'Falta Injustificada', 'Atraso'])]\n\n# Distribuição por dia da semana\nprint(\"\\n1️⃣ Distribuição de Faltas e Atrasos por Dia da Semana:\")\ndist_dia_semana = df_faltas_atrasos['nome_dia_semana'].value_counts().reindex(dias_ordem)\nfor dia, count in dist_dia_semana.items():\n    pct = count / len(df_faltas_atrasos) * 100\n    print(f\"   {dia}: {count:,} ({pct:.2f}%)\")\n\n# Breakdown por categoria\nprint(\"\\n2️⃣ Breakdown por Categoria:\")\nbreakdown_dia = df_faltas_atrasos.groupby(['nome_dia_semana', 'categoria_absentismo']).size().unstack(fill_value=0).reindex(dias_ordem)\nprint(breakdown_dia)\n\n# Estatísticas específicas: Segunda vs Sexta\nseg_total = df_faltas_atrasos[df_faltas_atrasos['is_segunda'] == 1].shape[0]\nsex_total = df_faltas_atrasos[df_faltas_atrasos['is_sexta'] == 1].shape[0]\noutros_dias = len(df_faltas_atrasos) - seg_total - sex_total\n\nprint(f\"\\n3️⃣ Comparação Segunda vs Sexta:\")\nprint(f\"   Segundas-feiras: {seg_total:,} ({seg_total/len(df_faltas_atrasos)*100:.2f}%)\")\nprint(f\"   Sextas-feiras: {sex_total:,} ({sex_total/len(df_faltas_atrasos)*100:.2f}%)\")\nprint(f\"   Outros dias: {outros_dias:,} ({outros_dias/len(df_faltas_atrasos)*100:.2f}%)\")\n\n# Visualização\nfig, axes = plt.subplots(1, 2, figsize=(16, 6))\n\n# Gráfico 1: Distribuição total por dia\ndist_dia_semana.plot(kind='bar', ax=axes[0], color='skyblue', edgecolor='black')\naxes[0].set_title('Distribuição de Faltas e Atrasos por Dia da Semana', fontsize=14, fontweight='bold')\naxes[0].set_xlabel('Dia da Semana')\naxes[0].set_ylabel('Número de Registros')\naxes[0].set_xticklabels(axes[0].get_xticklabels(), rotation=45, ha='right')\naxes[0].grid(axis='y', alpha=0.3)\n\n# Gráfico 2: Breakdown empilhado\nbreakdown_dia.plot(kind='bar', stacked=True, ax=axes[1], \n                   color=['#2ecc71', '#e74c3c', '#f39c12'])\naxes[1].set_title('Breakdown por Tipo de Ausência por Dia da Semana', fontsize=14, fontweight='bold')\naxes[1].set_xlabel('Dia da Semana')\naxes[1].set_ylabel('Número de Registros')\naxes[1].set_xticklabels(axes[1].get_xticklabels(), rotation=45, ha='right')\naxes[1].legend(title='Tipo')\naxes[1].grid(axis='y', alpha=0.3)\n\nplt.tight_layout()\nplt.show()\n\nprint(\"\\n\" + \"=\"*80)",
   "metadata": {},
   "execution_count": null,
   "outputs": []
  },
  {
   "cell_type": "markdown",
   "id": "rgj74zsrz4j",
   "source": "### 6.2 Padrões Mensais (Início, Meio, Fim do Mês)",
   "metadata": {}
  },
  {
   "cell_type": "code",
   "id": "nps8q7zlbq",
   "source": "# Análise de padrões mensais\nprint(\"=\"*80)\nprint(\"📊 PADRÕES MENSAIS - INÍCIO, MEIO, FIM DO MÊS\")\nprint(\"=\"*80)\n\n# Criar categorias\ndef categorizar_periodo_mes(dia):\n    if dia <= 7:\n        return 'Início (1-7)'\n    elif dia <= 15:\n        return 'Meio-Início (8-15)'\n    elif dia <= 22:\n        return 'Meio-Fim (16-22)'\n    else:\n        return 'Fim (23+)'\n\ndf_faltas_atrasos['periodo_mes'] = df_faltas_atrasos['dia'].apply(categorizar_periodo_mes)\n\n# Distribuição por período do mês\nprint(\"\\n1️⃣ Distribuição de Faltas e Atrasos por Período do Mês:\")\ndist_periodo = df_faltas_atrasos['periodo_mes'].value_counts().reindex(['Início (1-7)', 'Meio-Início (8-15)', 'Meio-Fim (16-22)', 'Fim (23+)'])\nfor periodo, count in dist_periodo.items():\n    pct = count / len(df_faltas_atrasos) * 100\n    print(f\"   {periodo}: {count:,} ({pct:.2f}%)\")\n\n# Breakdown por categoria\nprint(\"\\n2️⃣ Breakdown por Tipo de Ausência:\")\nbreakdown_periodo = df_faltas_atrasos.groupby(['periodo_mes', 'categoria_absentismo']).size().unstack(fill_value=0)\nbreakdown_periodo = breakdown_periodo.reindex(['Início (1-7)', 'Meio-Início (8-15)', 'Meio-Fim (16-22)', 'Fim (23+)'])\nprint(breakdown_periodo)\n\n# Distribuição por semana do mês\nprint(\"\\n3️⃣ Distribuição por Semana do Mês (1-5):\")\ndist_semana_mes = df_faltas_atrasos.groupby(['semana_mes', 'categoria_absentismo']).size().unstack(fill_value=0)\nprint(dist_semana_mes)\n\n# Visualização\nfig, axes = plt.subplots(1, 2, figsize=(16, 6))\n\n# Gráfico 1: Por período do mês\ndist_periodo.plot(kind='bar', ax=axes[0], color='lightcoral', edgecolor='black')\naxes[0].set_title('Distribuição por Período do Mês', fontsize=14, fontweight='bold')\naxes[0].set_xlabel('Período do Mês')\naxes[0].set_ylabel('Número de Registros')\naxes[0].set_xticklabels(axes[0].get_xticklabels(), rotation=45, ha='right')\naxes[0].grid(axis='y', alpha=0.3)\n\n# Gráfico 2: Por semana do mês (empilhado)\ndist_semana_mes.plot(kind='bar', stacked=True, ax=axes[1], \n                     color=['#2ecc71', '#e74c3c', '#f39c12'])\naxes[1].set_title('Distribuição por Semana do Mês', fontsize=14, fontweight='bold')\naxes[1].set_xlabel('Semana do Mês')\naxes[1].set_ylabel('Número de Registros')\naxes[1].legend(title='Tipo', bbox_to_anchor=(1.05, 1), loc='upper left')\naxes[1].grid(axis='y', alpha=0.3)\n\nplt.tight_layout()\nplt.show()\n\nprint(\"\\n\" + \"=\"*80)",
   "metadata": {},
   "execution_count": null,
   "outputs": []
  },
  {
   "cell_type": "markdown",
   "id": "e7pd4z8p5l8",
   "source": "### 6.3 Heatmap: Dia da Semana vs Semana do Mês",
   "metadata": {}
  },
  {
   "cell_type": "code",
   "id": "257ip80hyts",
   "source": "# Heatmap: Dia da Semana vs Semana do Mês\nheatmap_data = df_faltas_atrasos.groupby(['dia_semana', 'semana_mes']).size().unstack(fill_value=0)\n\n# Renomear índice para nomes dos dias\ndias_nomes = {0: 'Segunda', 1: 'Terça', 2: 'Quarta', 3: 'Quinta', 4: 'Sexta', 5: 'Sábado', 6: 'Domingo'}\nheatmap_data.index = heatmap_data.index.map(dias_nomes)\n\n# Visualização\nfig, ax = plt.subplots(figsize=(10, 6))\nsns.heatmap(heatmap_data, annot=True, fmt='d', cmap='YlOrRd', ax=ax, \n            cbar_kws={'label': 'Número de Registros'})\nax.set_title('Heatmap: Dia da Semana vs Semana do Mês\\n(Faltas e Atrasos)', \n             fontsize=14, fontweight='bold')\nax.set_xlabel('Semana do Mês')\nax.set_ylabel('Dia da Semana')\nplt.tight_layout()\nplt.show()\n\nprint(\"💡 Interpretação: Células mais escuras indicam combinações de dia/semana com mais faltas e atrasos\")",
   "metadata": {},
   "execution_count": null,
   "outputs": []
  },
  {
   "cell_type": "markdown",
   "id": "x17xcudlhqh",
   "source": "---\n\n## 7. FASE 5: Detecção de Padrões de Alerta (APENAS COLABORADORES ATIVOS)\n\n**Nota Importante**: Esta seção analisa **apenas colaboradores ativos** para identificar padrões que podem indicar comportamentos preocupantes.\n\n### 7.1 Preparação do Dataset de Ativos",
   "metadata": {}
  },
  {
   "cell_type": "code",
   "id": "5rtxlgqi167",
   "source": "# Filtrar apenas colaboradores ativos\ndf_ativos = df[df['is_ativo'] == 1].copy()\n\nprint(\"=\"*80)\nprint(\"🔍 ANÁLISE DE PADRÕES DE ALERTA - COLABORADORES ATIVOS\")\nprint(\"=\"*80)\n\nprint(f\"\\n📊 Dataset de Colaboradores Ativos:\")\nprint(f\"   Total de registros: {len(df_ativos):,}\")\nprint(f\"   Colaboradores únicos ativos: {df_ativos['login_colaborador'].nunique():,}\")\nprint(f\"   Período: {df_ativos['Data'].min().strftime('%d/%m/%Y')} a {df_ativos['Data'].max().strftime('%d/%m/%Y')}\")\n\n# Calcular métricas por colaborador\nprint(\"\\n⏳ Calculando métricas por colaborador...\")",
   "metadata": {},
   "execution_count": null,
   "outputs": []
  },
  {
   "cell_type": "markdown",
   "id": "u2usazr6msj",
   "source": "### 7.2 Cálculo de Métricas por Colaborador",
   "metadata": {}
  },
  {
   "cell_type": "code",
   "id": "5a32s1kpbcq",
   "source": "# Criar agregação por colaborador com múltiplas métricas\nmetricas_colaborador = df_ativos.groupby('login_colaborador').agg({\n    'nome_colaborador': 'first',\n    'operacao': 'first',\n    'segmento': 'first',\n    'categoria_profissional': 'first',\n    'departamento': 'first',\n    \n    # Totais por tipo\n    'is_falta_injustificada': 'sum',\n    'is_falta_justificada': 'sum',\n    'is_atraso': 'sum',\n    'is_trabalho_pago': 'sum',\n    \n    # Flags específicas para padrões\n    'is_segunda': 'sum',\n    'is_sexta': 'sum',\n    'is_inicio_mes': 'sum',\n    'is_fim_mes': 'sum',\n    \n    # Total de dias\n    'Data': 'count'\n}).reset_index()\n\n# Renomear colunas\nmetricas_colaborador.columns = [\n    'login', 'nome', 'operacao', 'segmento', 'categoria_profissional', 'departamento',\n    'faltas_injustificadas', 'faltas_justificadas', 'atrasos', 'trabalho_pago',\n    'registros_segunda', 'registros_sexta', 'registros_inicio_mes', 'registros_fim_mes',\n    'total_registros'\n]\n\n# Calcular métricas adicionais por colaborador\n\n# 1. Total de faltas (justificadas + injustificadas)\nmetricas_colaborador['total_faltas'] = (metricas_colaborador['faltas_justificadas'] + \n                                         metricas_colaborador['faltas_injustificadas'])\n\n# 2. Total de problemas (faltas + atrasos)\nmetricas_colaborador['total_problemas'] = (metricas_colaborador['total_faltas'] + \n                                            metricas_colaborador['atrasos'])\n\n# 3. Taxa de absentismo (%)\nmetricas_colaborador['taxa_absentismo'] = (metricas_colaborador['total_problemas'] / \n                                            metricas_colaborador['total_registros'] * 100)\n\n# 4. Calcular % de faltas/atrasos às segundas e sextas\n# Primeiro, contar quantas segundas/sextas teve cada colaborador\ndf_ativos_faltas = df_ativos[df_ativos['categoria_absentismo'].isin(['Falta Justificada', 'Falta Injustificada', 'Atraso'])]\n\n# Faltas às segundas\nfaltas_segundas = df_ativos_faltas[df_ativos_faltas['is_segunda'] == 1].groupby('login_colaborador').size()\nfaltas_sextas = df_ativos_faltas[df_ativos_faltas['is_sexta'] == 1].groupby('login_colaborador').size()\n\nmetricas_colaborador['faltas_segundas'] = metricas_colaborador['login'].map(faltas_segundas).fillna(0).astype(int)\nmetricas_colaborador['faltas_sextas'] = metricas_colaborador['login'].map(faltas_sextas).fillna(0).astype(int)\n\n# % de faltas às segundas/sextas em relação ao total de faltas+atrasos\nmetricas_colaborador['pct_faltas_segundas'] = np.where(\n    metricas_colaborador['total_problemas'] > 0,\n    metricas_colaborador['faltas_segundas'] / metricas_colaborador['total_problemas'] * 100,\n    0\n)\n\nmetricas_colaborador['pct_faltas_sextas'] = np.where(\n    metricas_colaborador['total_problemas'] > 0,\n    metricas_colaborador['faltas_sextas'] / metricas_colaborador['total_problemas'] * 100,\n    0\n)\n\n# 5. Faltas em início/fim de mês\nfaltas_inicio_mes = df_ativos_faltas[df_ativos_faltas['is_inicio_mes'] == 1].groupby('login_colaborador').size()\nfaltas_fim_mes = df_ativos_faltas[df_ativos_faltas['is_fim_mes'] == 1].groupby('login_colaborador').size()\n\nmetricas_colaborador['faltas_inicio_mes'] = metricas_colaborador['login'].map(faltas_inicio_mes).fillna(0).astype(int)\nmetricas_colaborador['faltas_fim_mes'] = metricas_colaborador['login'].map(faltas_fim_mes).fillna(0).astype(int)\n\n# 6. Baixas médicas (código BM, BMP)\nbaixas_medicas = df_ativos[df_ativos['segmento_processado_codigo'].isin(['BM', 'BMP'])].groupby('login_colaborador').size()\nmetricas_colaborador['baixas_medicas'] = metricas_colaborador['login'].map(baixas_medicas).fillna(0).astype(int)\n\nprint(f\"✅ Métricas calculadas para {len(metricas_colaborador)} colaboradores ativos!\")\nprint(f\"\\n📋 Exemplo das métricas calculadas:\")\nmetricas_colaborador.head(10)",
   "metadata": {},
   "execution_count": null,
   "outputs": []
  },
  {
   "cell_type": "markdown",
   "id": "un4hcwjrmk",
   "source": "### 7.3 Padrão de Alerta 1: Faltas Injustificadas Recorrentes",
   "metadata": {}
  },
  {
   "cell_type": "code",
   "id": "gef9puif59e",
   "source": "# Padrão 1: Faltas Injustificadas Recorrentes\nprint(\"=\"*80)\nprint(\"🚨 PADRÃO DE ALERTA 1: FALTAS INJUSTIFICADAS RECORRENTES\")\nprint(\"=\"*80)\n\n# Filtrar colaboradores com faltas injustificadas\ncolaboradores_faltas_inj = metricas_colaborador[metricas_colaborador['faltas_injustificadas'] > 0].copy()\ncolaboradores_faltas_inj = colaboradores_faltas_inj.sort_values('faltas_injustificadas', ascending=False)\n\nprint(f\"\\n📊 Estatísticas:\")\nprint(f\"   Colaboradores com pelo menos 1 falta injustificada: {len(colaboradores_faltas_inj)}\")\nprint(f\"   Total de faltas injustificadas: {colaboradores_faltas_inj['faltas_injustificadas'].sum():,}\")\nprint(f\"   Média de faltas injustificadas por colaborador: {colaboradores_faltas_inj['faltas_injustificadas'].mean():.2f}\")\nprint(f\"   Mediana: {colaboradores_faltas_inj['faltas_injustificadas'].median():.0f}\")\nprint(f\"   Máximo: {colaboradores_faltas_inj['faltas_injustificadas'].max():.0f}\")\n\n# Percentis\np75 = colaboradores_faltas_inj['faltas_injustificadas'].quantile(0.75)\np90 = colaboradores_faltas_inj['faltas_injustificadas'].quantile(0.90)\np95 = colaboradores_faltas_inj['faltas_injustificadas'].quantile(0.95)\n\nprint(f\"\\n📈 Percentis:\")\nprint(f\"   75%: {p75:.0f} faltas\")\nprint(f\"   90%: {p90:.0f} faltas\")\nprint(f\"   95%: {p95:.0f} faltas\")\n\n# Top 20 colaboradores com mais faltas injustificadas\nprint(f\"\\n🔝 Top 20 Colaboradores com Mais Faltas Injustificadas:\")\ntop20_faltas_inj = colaboradores_faltas_inj.head(20)[['login', 'nome', 'operacao', 'segmento', \n                                                        'faltas_injustificadas', 'atrasos', 'taxa_absentismo']]\nprint(top20_faltas_inj.to_string(index=False))\n\n# Visualização\nfig, axes = plt.subplots(1, 2, figsize=(16, 6))\n\n# Gráfico 1: Distribuição\ncolaboradores_faltas_inj['faltas_injustificadas'].hist(bins=30, ax=axes[0], \n                                                        color='crimson', edgecolor='black')\naxes[0].axvline(p90, color='orange', linestyle='--', linewidth=2, label=f'P90 = {p90:.0f}')\naxes[0].set_title('Distribuição de Faltas Injustificadas', fontsize=14, fontweight='bold')\naxes[0].set_xlabel('Número de Faltas Injustificadas')\naxes[0].set_ylabel('Frequência')\naxes[0].legend()\naxes[0].grid(alpha=0.3)\n\n# Gráfico 2: Top 20\ntop20_faltas_inj_plot = top20_faltas_inj.head(20).sort_values('faltas_injustificadas')\naxes[1].barh(range(len(top20_faltas_inj_plot)), top20_faltas_inj_plot['faltas_injustificadas'], \n             color='crimson', edgecolor='black')\naxes[1].set_yticks(range(len(top20_faltas_inj_plot)))\naxes[1].set_yticklabels(top20_faltas_inj_plot['nome'], fontsize=8)\naxes[1].set_xlabel('Número de Faltas Injustificadas')\naxes[1].set_title('Top 20 - Faltas Injustificadas', fontsize=14, fontweight='bold')\naxes[1].grid(axis='x', alpha=0.3)\n\nplt.tight_layout()\nplt.show()\n\nprint(\"\\n\" + \"=\"*80)",
   "metadata": {},
   "execution_count": null,
   "outputs": []
  },
  {
   "cell_type": "markdown",
   "id": "xvq763id04d",
   "source": "### 7.4 Padrão de Alerta 2: Atrasos Crónicos",
   "metadata": {}
  },
  {
   "cell_type": "code",
   "id": "uyovp2cf0nf",
   "source": "# Padrão 2: Atrasos Crónicos\nprint(\"=\"*80)\nprint(\"🚨 PADRÃO DE ALERTA 2: ATRASOS CRÓNICOS\")\nprint(\"=\"*80)\n\n# Filtrar colaboradores com atrasos\ncolaboradores_atrasos = metricas_colaborador[metricas_colaborador['atrasos'] > 0].copy()\ncolaboradores_atrasos = colaboradores_atrasos.sort_values('atrasos', ascending=False)\n\nprint(f\"\\n📊 Estatísticas:\")\nprint(f\"   Colaboradores com pelo menos 1 atraso: {len(colaboradores_atrasos)}\")\nprint(f\"   Total de atrasos: {colaboradores_atrasos['atrasos'].sum():,}\")\nprint(f\"   Média de atrasos por colaborador: {colaboradores_atrasos['atrasos'].mean():.2f}\")\nprint(f\"   Mediana: {colaboradores_atrasos['atrasos'].median():.0f}\")\nprint(f\"   Máximo: {colaboradores_atrasos['atrasos'].max():.0f}\")\n\n# Percentis\np75_atr = colaboradores_atrasos['atrasos'].quantile(0.75)\np90_atr = colaboradores_atrasos['atrasos'].quantile(0.90)\np95_atr = colaboradores_atrasos['atrasos'].quantile(0.95)\n\nprint(f\"\\n📈 Percentis:\")\nprint(f\"   75%: {p75_atr:.0f} atrasos\")\nprint(f\"   90%: {p90_atr:.0f} atrasos\")\nprint(f\"   95%: {p95_atr:.0f} atrasos\")\n\n# Top 20 colaboradores com mais atrasos\nprint(f\"\\n🔝 Top 20 Colaboradores com Mais Atrasos:\")\ntop20_atrasos = colaboradores_atrasos.head(20)[['login', 'nome', 'operacao', 'segmento', \n                                                  'atrasos', 'faltas_injustificadas', 'taxa_absentismo']]\nprint(top20_atrasos.to_string(index=False))\n\n# Visualização\nfig, ax = plt.subplots(figsize=(14, 8))\ntop20_atrasos_plot = top20_atrasos.head(20).sort_values('atrasos')\nax.barh(range(len(top20_atrasos_plot)), top20_atrasos_plot['atrasos'], \n        color='darkorange', edgecolor='black')\nax.set_yticks(range(len(top20_atrasos_plot)))\nax.set_yticklabels(top20_atrasos_plot['nome'], fontsize=9)\nax.set_xlabel('Número de Atrasos')\nax.set_title('Top 20 Colaboradores com Mais Atrasos', fontsize=14, fontweight='bold')\nax.grid(axis='x', alpha=0.3)\nplt.tight_layout()\nplt.show()\n\nprint(\"\\n\" + \"=\"*80)",
   "metadata": {},
   "execution_count": null,
   "outputs": []
  },
  {
   "cell_type": "markdown",
   "id": "r9qzcoqhv0k",
   "source": "### 7.5 Padrão de Alerta 3: Faltas Estratégicas (Segundas/Sextas)",
   "metadata": {}
  },
  {
   "cell_type": "code",
   "id": "k2zfrharx6b",
   "source": "# Padrão 3: Faltas Estratégicas (Segundas/Sextas - Extensão de Fim de Semana)\nprint(\"=\"*80)\nprint(\"🚨 PADRÃO DE ALERTA 3: FALTAS ESTRATÉGICAS (SEGUNDAS/SEXTAS)\")\nprint(\"=\"*80)\n\n# Filtrar colaboradores com problemas às segundas ou sextas\n# Consideramos \"suspeito\" se > 30% das faltas/atrasos são às segundas OU sextas\nthreshold_pct = 30  # 30% ou mais é considerado padrão suspeito\n\ncolaboradores_segundas = metricas_colaborador[\n    (metricas_colaborador['pct_faltas_segundas'] >= threshold_pct) & \n    (metricas_colaborador['total_problemas'] >= 5)  # Pelo menos 5 problemas para ter amostra significativa\n].sort_values('pct_faltas_segundas', ascending=False)\n\ncolaboradores_sextas = metricas_colaborador[\n    (metricas_colaborador['pct_faltas_sextas'] >= threshold_pct) & \n    (metricas_colaborador['total_problemas'] >= 5)\n].sort_values('pct_faltas_sextas', ascending=False)\n\nprint(f\"\\n📊 Estatísticas - Padrão Segunda-feira:\")\nprint(f\"   Colaboradores com ≥{threshold_pct}% de faltas/atrasos às segundas: {len(colaboradores_segundas)}\")\nif len(colaboradores_segundas) > 0:\n    print(f\"   Percentagem média de faltas às segundas (deste grupo): {colaboradores_segundas['pct_faltas_segundas'].mean():.1f}%\")\n    print(f\"   Máximo: {colaboradores_segundas['pct_faltas_segundas'].max():.1f}%\")\n\nprint(f\"\\n📊 Estatísticas - Padrão Sexta-feira:\")\nprint(f\"   Colaboradores com ≥{threshold_pct}% de faltas/atrasos às sextas: {len(colaboradores_sextas)}\")\nif len(colaboradores_sextas) > 0:\n    print(f\"   Percentagem média de faltas às sextas (deste grupo): {colaboradores_sextas['pct_faltas_sextas'].mean():.1f}%\")\n    print(f\"   Máximo: {colaboradores_sextas['pct_faltas_sextas'].max():.1f}%\")\n\n# Top 20 - Segundas\nif len(colaboradores_segundas) > 0:\n    print(f\"\\n🔝 Top 20 Colaboradores com Padrão 'Segunda-feira':\")\n    print(f\"   (Pelo menos 5 problemas e ≥{threshold_pct}% às segundas)\")\n    top20_segundas = colaboradores_segundas.head(20)[['login', 'nome', 'operacao', \n                                                        'faltas_segundas', 'total_problemas', \n                                                        'pct_faltas_segundas']]\n    print(top20_segundas.to_string(index=False))\n\n# Top 20 - Sextas\nif len(colaboradores_sextas) > 0:\n    print(f\"\\n🔝 Top 20 Colaboradores com Padrão 'Sexta-feira':\")\n    print(f\"   (Pelo menos 5 problemas e ≥{threshold_pct}% às sextas)\")\n    top20_sextas = colaboradores_sextas.head(20)[['login', 'nome', 'operacao', \n                                                    'faltas_sextas', 'total_problemas', \n                                                    'pct_faltas_sextas']]\n    print(top20_sextas.to_string(index=False))\n\n# Visualização\nfig, axes = plt.subplots(1, 2, figsize=(16, 6))\n\n# Scatter plot: % faltas segundas vs % faltas sextas\nscatter_data = metricas_colaborador[metricas_colaborador['total_problemas'] >= 5]\naxes[0].scatter(scatter_data['pct_faltas_segundas'], scatter_data['pct_faltas_sextas'], \n                alpha=0.5, color='purple')\naxes[0].axhline(threshold_pct, color='red', linestyle='--', linewidth=1, label=f'Threshold {threshold_pct}%')\naxes[0].axvline(threshold_pct, color='red', linestyle='--', linewidth=1)\naxes[0].set_xlabel('% Faltas às Segundas')\naxes[0].set_ylabel('% Faltas às Sextas')\naxes[0].set_title('Padrão Segunda vs Sexta\\n(colaboradores com ≥5 problemas)', fontsize=12, fontweight='bold')\naxes[0].legend()\naxes[0].grid(alpha=0.3)\n\n# Distribuição de % de faltas às segundas\nif len(colaboradores_segundas) > 0:\n    colaboradores_segundas['pct_faltas_segundas'].hist(bins=20, ax=axes[1], \n                                                        color='steelblue', edgecolor='black')\n    axes[1].set_xlabel('% Faltas às Segundas')\n    axes[1].set_ylabel('Frequência')\n    axes[1].set_title('Distribuição % Faltas às Segundas\\n(apenas colaboradores com ≥30%)', \n                      fontsize=12, fontweight='bold')\n    axes[1].grid(alpha=0.3)\n\nplt.tight_layout()\nplt.show()\n\nprint(\"\\n\" + \"=\"*80)",
   "metadata": {},
   "execution_count": null,
   "outputs": []
  },
  {
   "cell_type": "markdown",
   "id": "z2muqivspel",
   "source": "### 7.6 Padrão de Alerta 4: Baixas Médicas Frequentes",
   "metadata": {}
  },
  {
   "cell_type": "code",
   "id": "yzb04nmo64",
   "source": "# Padrão 4: Baixas Médicas Frequentes\nprint(\"=\"*80)\nprint(\"🚨 PADRÃO DE ALERTA 4: BAIXAS MÉDICAS FREQUENTES\")\nprint(\"=\"*80)\n\n# Filtrar colaboradores com baixas médicas\ncolaboradores_baixas = metricas_colaborador[metricas_colaborador['baixas_medicas'] > 0].copy()\ncolaboradores_baixas = colaboradores_baixas.sort_values('baixas_medicas', ascending=False)\n\nprint(f\"\\n📊 Estatísticas:\")\nprint(f\"   Colaboradores com pelo menos 1 baixa médica: {len(colaboradores_baixas)}\")\nprint(f\"   Total de dias de baixa médica: {colaboradores_baixas['baixas_medicas'].sum():,}\")\nprint(f\"   Média por colaborador (com baixa): {colaboradores_baixas['baixas_medicas'].mean():.2f}\")\nprint(f\"   Mediana: {colaboradores_baixas['baixas_medicas'].median():.0f}\")\nprint(f\"   Máximo: {colaboradores_baixas['baixas_medicas'].max():.0f}\")\n\n# Percentis\np90_bx = colaboradores_baixas['baixas_medicas'].quantile(0.90)\np95_bx = colaboradores_baixas['baixas_medicas'].quantile(0.95)\n\nprint(f\"\\n📈 Percentis:\")\nprint(f\"   90%: {p90_bx:.0f} dias\")\nprint(f\"   95%: {p95_bx:.0f} dias\")\n\n# Top 20\nprint(f\"\\n🔝 Top 20 Colaboradores com Mais Baixas Médicas:\")\ntop20_baixas = colaboradores_baixas.head(20)[['login', 'nome', 'operacao', 'segmento', \n                                                'baixas_medicas', 'faltas_injustificadas', \n                                                'atrasos']]\nprint(top20_baixas.to_string(index=False))\n\n# Visualização\nfig, ax = plt.subplots(figsize=(14, 8))\ntop20_baixas_plot = top20_baixas.head(20).sort_values('baixas_medicas')\nax.barh(range(len(top20_baixas_plot)), top20_baixas_plot['baixas_medicas'], \n        color='teal', edgecolor='black')\nax.set_yticks(range(len(top20_baixas_plot)))\nax.set_yticklabels(top20_baixas_plot['nome'], fontsize=9)\nax.set_xlabel('Número de Dias em Baixa Médica')\nax.set_title('Top 20 Colaboradores com Mais Baixas Médicas', fontsize=14, fontweight='bold')\nax.grid(axis='x', alpha=0.3)\nplt.tight_layout()\nplt.show()\n\nprint(\"\\n\" + \"=\"*80)",
   "metadata": {},
   "execution_count": null,
   "outputs": []
  },
  {
   "cell_type": "markdown",
   "id": "domfr1x8xqo",
   "source": "### 7.7 Resumo Final: Tabela Consolidada de Colaboradores de Atenção",
   "metadata": {}
  },
  {
   "cell_type": "code",
   "id": "ijm08dadlzi",
   "source": "# Tabela Consolidada Final\nprint(\"=\"*80)\nprint(\"📋 TABELA CONSOLIDADA - TOP 50 COLABORADORES DE ATENÇÃO\")\nprint(\"=\"*80)\n\n# Ordenar por taxa de absentismo global\ntop50_geral = metricas_colaborador.sort_values('taxa_absentismo', ascending=False).head(50)\n\n# Selecionar colunas relevantes\ntabela_final = top50_geral[[\n    'login', 'nome', 'operacao', 'segmento', 'categoria_profissional',\n    'faltas_injustificadas', 'faltas_justificadas', 'atrasos', 'baixas_medicas',\n    'total_problemas', 'taxa_absentismo',\n    'pct_faltas_segundas', 'pct_faltas_sextas'\n]].copy()\n\n# Arredondar percentagens\ntabela_final['taxa_absentismo'] = tabela_final['taxa_absentismo'].round(2)\ntabela_final['pct_faltas_segundas'] = tabela_final['pct_faltas_segundas'].round(1)\ntabela_final['pct_faltas_sextas'] = tabela_final['pct_faltas_sextas'].round(1)\n\nprint(\"\\n🔝 Top 50 Colaboradores por Taxa de Absentismo:\")\nprint(tabela_final.to_string(index=False))\n\n# Resumo por operação\nprint(f\"\\n\\n📊 Distribuição dos Top 50 por Operação:\")\ndist_top50_op = tabela_final['operacao'].value_counts()\nfor op, count in dist_top50_op.items():\n    pct = count / 50 * 100\n    print(f\"   {op}: {count} colaboradores ({pct:.1f}%)\")\n\n# Exportar para CSV (opcional)\n# tabela_final.to_csv('top50_colaboradores_atencao.csv', index=False, encoding='utf-8-sig')\n# print(\"\\n✅ Tabela exportada para 'top50_colaboradores_atencao.csv'\")\n\nprint(\"\\n\" + \"=\"*80)",
   "metadata": {},
   "execution_count": null,
   "outputs": []
  },
  {
   "cell_type": "markdown",
   "id": "szc3zeeuh3",
   "source": "---\n\n## 8. Sumário Executivo - Principais Achados\n\nEsta seção consolida os principais achados da análise para apresentação à direção.",
   "metadata": {}
  },
  {
   "cell_type": "code",
   "id": "o1ovrf119yd",
   "source": "print(\"=\"*80)\nprint(\"📊 SUMÁRIO EXECUTIVO - ANÁLISE DE ABSENTISMO\")\nprint(\"=\"*80)\n\nprint(f\"\\n{'='*80}\")\nprint(\"1️⃣ VISÃO GERAL\")\nprint(f\"{'='*80}\")\n\ntotal_colab = df['login_colaborador'].nunique()\ncolab_ativos = df[df['is_ativo']==1]['login_colaborador'].nunique()\nperiodo_dias = (df['Data'].max() - df['Data'].min()).days + 1\n\nprint(f\"   • Período analisado: {df['Data'].min().strftime('%d/%m/%Y')} a {df['Data'].max().strftime('%d/%m/%Y')} ({periodo_dias} dias)\")\nprint(f\"   • Total de colaboradores: {total_colab:,}\")\nprint(f\"   • Colaboradores ativos: {colab_ativos:,} ({colab_ativos/total_colab*100:.1f}%)\")\nprint(f\"   • Total de registros analisados: {len(df):,}\")\n\nprint(f\"\\n{'='*80}\")\nprint(\"2️⃣ DISTRIBUIÇÃO GERAL DE ABSENTISMO\")\nprint(f\"{'='*80}\")\n\n# Recalcular estatísticas principais\ntotal_reg = len(df)\ntrabalho_pago = df['is_trabalho_pago'].sum()\nfaltas_just = df['is_falta_justificada'].sum()\nfaltas_inj = df['is_falta_injustificada'].sum()\natrasos_tot = df['is_atraso'].sum()\nnao_contado = df['is_ausencia_nao_contada'].sum()\n\nprint(f\"   • Trabalho Pago: {trabalho_pago:,} ({trabalho_pago/total_reg*100:.2f}%)\")\nprint(f\"   • Faltas Justificadas: {faltas_just:,} ({faltas_just/total_reg*100:.2f}%)\")\nprint(f\"   • Faltas Injustificadas: {faltas_inj:,} ({faltas_inj/total_reg*100:.2f}%)\")\nprint(f\"   • Atrasos: {atrasos_tot:,} ({atrasos_tot/total_reg*100:.2f}%)\")\nprint(f\"   • Não considerado no absentismo: {nao_contado:,} ({nao_contado/total_reg*100:.2f}%)\")\n\nprint(f\"\\n{'='*80}\")\nprint(\"3️⃣ PADRÕES TEMPORAIS\")\nprint(f\"{'='*80}\")\n\n# Recalcular para faltas e atrasos apenas\ndf_prob = df[df['categoria_absentismo'].isin(['Falta Justificada', 'Falta Injustificada', 'Atraso'])]\ntotal_prob = len(df_prob)\n\nseg_pct = df_prob['is_segunda'].sum() / total_prob * 100\nsex_pct = df_prob['is_sexta'].sum() / total_prob * 100\ninicio_mes_pct = df_prob['is_inicio_mes'].sum() / total_prob * 100\nfim_mes_pct = df_prob['is_fim_mes'].sum() / total_prob * 100\n\nprint(f\"   • Faltas/Atrasos às Segundas: {seg_pct:.1f}% do total\")\nprint(f\"   • Faltas/Atrasos às Sextas: {sex_pct:.1f}% do total\")\nprint(f\"   • Faltas/Atrasos no Início do Mês (dias 1-7): {inicio_mes_pct:.1f}%\")\nprint(f\"   • Faltas/Atrasos no Fim do Mês (dias 23+): {fim_mes_pct:.1f}%\")\n\nprint(f\"\\n{'='*80}\")\nprint(\"4️⃣ COLABORADORES ATIVOS - ALERTAS\")\nprint(f\"{'='*80}\")\n\n# Estatísticas dos colaboradores ativos\nprob_colab = metricas_colaborador[metricas_colaborador['total_problemas'] > 0]\n\nprint(f\"   • Colaboradores ativos com pelo menos 1 falta/atraso: {len(prob_colab):,}\")\nprint(f\"   • Com faltas injustificadas: {len(metricas_colaborador[metricas_colaborador['faltas_injustificadas'] > 0]):,}\")\nprint(f\"   • Com atrasos: {len(metricas_colaborador[metricas_colaborador['atrasos'] > 0]):,}\")\nprint(f\"   • Com baixas médicas: {len(metricas_colaborador[metricas_colaborador['baixas_medicas'] > 0]):,}\")\n\nif len(colaboradores_segundas) > 0:\n    print(f\"   • Com padrão 'Segunda-feira' (≥30% faltas às segundas): {len(colaboradores_segundas):,}\")\nif len(colaboradores_sextas) > 0:\n    print(f\"   • Com padrão 'Sexta-feira' (≥30% faltas às sextas): {len(colaboradores_sextas):,}\")\n\nprint(f\"\\n{'='*80}\")\nprint(\"5️⃣ TOP 10 COLABORADORES POR TAXA DE ABSENTISMO\")\nprint(f\"{'='*80}\")\n\ntop10_final = metricas_colaborador.sort_values('taxa_absentismo', ascending=False).head(10)[\n    ['login', 'nome', 'operacao', 'faltas_injustificadas', 'atrasos', 'taxa_absentismo']\n]\nprint(top10_final.to_string(index=False))\n\nprint(f\"\\n{'='*80}\")\nprint(\"6️⃣ RECOMENDAÇÕES\")\nprint(f\"{'='*80}\")\nprint(\"\"\"\n   1. Revisar os Top 50 colaboradores identificados na tabela consolidada\n   2. Investigar colaboradores com padrões de faltas às segundas/sextas (possível extensão de FDS)\n   3. Analisar individualmente casos com >10 faltas injustificadas\n   4. Monitorizar colaboradores com alta frequência de baixas médicas curtas\n   5. Implementar sistema de alertas automático para padrões recorrentes\n   6. Realizar reuniões individuais com colaboradores de risco alto\n\"\"\")\n\nprint(\"=\"*80)\nprint(\"✅ ANÁLISE CONCLUÍDA\")\nprint(\"=\"*80)",
   "metadata": {},
   "execution_count": null,
   "outputs": []
  }
 ],
 "metadata": {
  "kernelspec": {
   "display_name": "Python 3 (ipykernel)",
   "language": "python",
   "name": "python3"
  },
  "language_info": {
   "codemirror_mode": {
    "name": "ipython",
    "version": 3
   },
   "file_extension": ".py",
   "mimetype": "text/x-python",
   "name": "python",
   "nbconvert_exporter": "python",
   "pygments_lexer": "ipython3",
   "version": "3.12.3"
  }
 },
 "nbformat": 4,
 "nbformat_minor": 5
}