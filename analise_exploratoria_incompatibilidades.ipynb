{
 "cells": [
  {
   "cell_type": "markdown",
   "metadata": {},
   "source": "# Análise Exploratória: Incompatibilidades nos Dados\n\n**Objetivo**: Identificar todos os casos de incompatibilidades nos dados de absentismo para discussão com RH.\n\n**Abordagem**: Trabalhar ao nível dos **códigos originais** (não níveis agregados) para evitar mascarar ou criar incompatibilidades artificiais.\n\n## Metodologia:\n\n1. **Criar Matriz de Compatibilidade**: Matriz 40x40 PRÉ-PREENCHIDA com regras automáticas\n2. **Revisar e Ajustar**: Validar regras no Excel e ajustar se necessário\n3. **Testar Incompatibilidades**: Usar matriz para identificar todos os casos reais no dataset\n4. **Exportar Resultados**: Excel com detalhes (Data, Login, Nome, Códigos) para discussão com RH\n\n## Regras Automáticas Aplicadas:\n\n1. **Presença vs Ausência** (nível_1) → Incompatível\n2. **Ausência Justificada vs Injustificada** → Incompatível\n3. **Inatividade vs qualquer outro** → Incompatível\n4. **Férias/Feriado/Folga vs trabalho** → Incompatível\n5. **Doença vs Presença** → Incompatível\n6. **Maternidade/Paternidade vs Presença** → Incompatível\n7. **Formação vs Ausência Injustificada** → Incompatível"
  },
  {
   "cell_type": "markdown",
   "metadata": {},
   "source": [
    "---\n",
    "\n",
    "## 1. Carregamento de Dados"
   ]
  },
  {
   "cell_type": "code",
   "execution_count": null,
   "metadata": {},
   "outputs": [],
   "source": "import pandas as pd\nimport numpy as np\nfrom datetime import datetime\nimport warnings\nwarnings.filterwarnings('ignore')\n\n# Carregar códigos (mesma estrutura do notebook de apresentação)\nprint('Carregando códigos...')\ncodigos = pd.read_excel('códigos.xlsx', engine='openpyxl')\ncodigos.columns = ['codigo', 'descricao', 'nivel_1', 'nivel_2', 'nivel_3', 'nivel_4']\n\n# Limpar espaços\nfor col in codigos.columns:\n    if codigos[col].dtype == 'object':\n        codigos[col] = codigos[col].str.strip()\n\nprint(f'✅ Códigos carregados: {len(codigos)} códigos')\nprint(f'   Níveis: N1={codigos[\"nivel_1\"].nunique()}, N2={codigos[\"nivel_2\"].nunique()}, N3={codigos[\"nivel_3\"].nunique()}, N4={codigos[\"nivel_4\"].nunique()}')\n\n# Carregar dataset\nprint('\\nCarregando dataset...')\ndf_raw = pd.read_csv('combined_data.csv', sep=',', parse_dates=['Data'])\n\n# Merge com códigos para ter todos os níveis\ndf_raw = df_raw.merge(\n    codigos[['codigo', 'nivel_1', 'nivel_2', 'nivel_3', 'nivel_4']], \n    left_on='segmento_processado_codigo', \n    right_on='codigo', \n    how='left'\n)\ndf_raw.drop('codigo', axis=1, inplace=True)\n\nprint(f'\\n✅ Dataset carregado: {len(df_raw):,} registros')\nprint(f'   Período: {df_raw[\"Data\"].min().strftime(\"%Y-%m-%d\")} a {df_raw[\"Data\"].max().strftime(\"%Y-%m-%d\")}')\nprint(f'   Colaboradores únicos: {df_raw[\"login_colaborador\"].nunique():,}')\nprint(f'   Colunas com níveis: {[c for c in df_raw.columns if \"nivel\" in c]}')"
  },
  {
   "cell_type": "markdown",
   "metadata": {},
   "source": "---\n\n## 2. Criação da Matriz de Compatibilidade entre Códigos"
  },
  {
   "cell_type": "code",
   "execution_count": null,
   "metadata": {},
   "outputs": [],
   "source": "# Obter lista de todos os códigos únicos\nlista_codigos = sorted(codigos['codigo'].unique())\nn_codigos = len(lista_codigos)\n\nprint('='*90)\nprint('📋 CRIAÇÃO DA MATRIZ DE COMPATIBILIDADE')\nprint('='*90)\nprint(f'\\nTotal de códigos: {n_codigos}')\nprint(f'Tamanho da matriz: {n_codigos}x{n_codigos} = {n_codigos*n_codigos:,} combinações')\n\n# Criar matriz de compatibilidade com regras de negócio automáticas\nmatriz_compat = pd.DataFrame(\n    'Compatível',  # Valor padrão\n    index=lista_codigos,\n    columns=lista_codigos\n)\n\nprint('\\nAplicando regras de negócio automáticas...')\n\n# Contar incompatibilidades aplicadas\ncount_incompativel = 0\n\n# Iterar por todos os pares de códigos\nfor i, cod1 in enumerate(lista_codigos):\n    info1 = codigos[codigos['codigo'] == cod1].iloc[0]\n    \n    for j, cod2 in enumerate(lista_codigos):\n        if i >= j:  # Pular diagonal e parte inferior (matriz simétrica)\n            continue\n            \n        info2 = codigos[codigos['codigo'] == cod2].iloc[0]\n        \n        incompativel = False\n        \n        # REGRA 1: Nível 1 - Presença vs Ausência (mutuamente exclusivas)\n        if info1['nivel_1'] != info2['nivel_1']:\n            # Presença incompatível com Ausência\n            incompativel = True\n        \n        # REGRA 2: Nível 2 - Categorias incompatíveis\n        elif info1['nivel_2'] == 'Ausência Justificada' and info2['nivel_2'] == 'Ausência Injustificada':\n            incompativel = True\n        elif info1['nivel_2'] == 'Ausência Injustificada' and info2['nivel_2'] == 'Ausência Justificada':\n            incompativel = True\n        \n        # REGRA 3: Inatividade incompatível com tudo (exceto ela mesma)\n        elif info1['nivel_2'] == 'Inatividade' or info2['nivel_2'] == 'Inatividade':\n            incompativel = True\n        \n        # REGRA 4: Nível 3 - Férias/Feriado/Folga incompatível com trabalho\n        elif 'Ferias / Feriado / Folga' in [info1['nivel_3'], info2['nivel_3']]:\n            outro_n3 = info2['nivel_3'] if info1['nivel_3'] == 'Ferias / Feriado / Folga' else info1['nivel_3']\n            if outro_n3 in ['Presença', 'Atraso / Saída Antecipada']:\n                incompativel = True\n        \n        # REGRA 5: Doença incompatível com Presença normal\n        elif 'Doença' in [info1['nivel_3'], info2['nivel_3']]:\n            outro_n3 = info2['nivel_3'] if info1['nivel_3'] == 'Doença' else info1['nivel_3']\n            if outro_n3 == 'Presença':\n                incompativel = True\n        \n        # REGRA 6: Maternidade/Paternidade incompatível com Presença normal\n        elif 'Maternidade / Paternidade' in [info1['nivel_3'], info2['nivel_3']]:\n            outro_n3 = info2['nivel_3'] if info1['nivel_3'] == 'Maternidade / Paternidade' else info1['nivel_3']\n            if outro_n3 == 'Presença':\n                incompativel = True\n        \n        # REGRA 7: Formação incompatível com Ausência Injustificada\n        elif 'Formação' in [info1['nivel_3'], info2['nivel_3']]:\n            outro_n2 = info2['nivel_2'] if info1['nivel_3'] == 'Formação' else info1['nivel_2']\n            if outro_n2 == 'Ausência Injustificada':\n                incompativel = True\n        \n        # Aplicar à matriz (simétrica)\n        if incompativel:\n            matriz_compat.loc[cod1, cod2] = 'Incompatível'\n            matriz_compat.loc[cod2, cod1] = 'Incompatível'\n            count_incompativel += 1\n\nprint(f'\\n✅ Matriz criada com {count_incompativel} pares marcados como \"Incompatível\"')\nprint(f'   Pares compatíveis: {n_codigos*(n_codigos-1)//2 - count_incompativel}')\nprint(f'\\n💡 Regras aplicadas automaticamente:')\nprint(f'   1. Presença vs Ausência (nível 1)')\nprint(f'   2. Ausência Justificada vs Injustificada')\nprint(f'   3. Inatividade incompatível com tudo')\nprint(f'   4. Férias/Feriado/Folga vs trabalho')\nprint(f'   5. Doença vs Presença')\nprint(f'   6. Maternidade/Paternidade vs Presença')\nprint(f'   7. Formação vs Ausência Injustificada')\nprint(f'\\n📝 Próximo passo: Revisar matriz no Excel e ajustar se necessário')"
  },
  {
   "cell_type": "markdown",
   "metadata": {},
   "source": "---\n\n## 3. Exportação da Matriz para Excel"
  },
  {
   "cell_type": "code",
   "execution_count": null,
   "metadata": {},
   "outputs": [],
   "source": "# Exportar matriz para Excel\noutput_matriz = 'matriz_compatibilidade_codigos.xlsx'\n\nwith pd.ExcelWriter(output_matriz, engine='openpyxl') as writer:\n    # Exportar matriz\n    matriz_compat.to_excel(writer, sheet_name='Matriz_Compatibilidade', index=True)\n    \n    # Criar folha de referência com descrições dos códigos\n    df_ref = codigos[['codigo', 'descricao', 'nivel_1', 'nivel_2', 'nivel_3', 'nivel_4']].copy()\n    df_ref = df_ref.sort_values('codigo')\n    df_ref.to_excel(writer, sheet_name='Referência_Códigos', index=False)\n    \n    # Criar folha de instruções\n    instrucoes = pd.DataFrame({\n        'Instruções': [\n            '🎯 OBJETIVO: Validar e ajustar as regras de compatibilidade entre códigos',\n            '',\n            '✅ MATRIZ JÁ PRÉ-PREENCHIDA COM REGRAS AUTOMÁTICAS:',\n            '   1. Presença vs Ausência → Incompatível',\n            '   2. Ausência Justificada vs Injustificada → Incompatível',\n            '   3. Inatividade vs qualquer outro → Incompatível',\n            '   4. Férias/Feriado/Folga vs trabalho → Incompatível',\n            '   5. Doença vs Presença → Incompatível',\n            '   6. Maternidade/Paternidade vs Presença → Incompatível',\n            '   7. Formação vs Ausência Injustificada → Incompatível',\n            '',\n            '📝 O QUE FAZER:',\n            '   1. Revisar a folha \"Matriz_Compatibilidade\"',\n            '   2. Verificar se as marcações \"Incompatível\" fazem sentido',\n            '   3. ADICIONAR \"Incompatível\" onde faltar (casos não cobertos pelas regras)',\n            '   4. MUDAR para \"Compatível\" se alguma regra estiver errada',\n            '',\n            '💡 DICAS:',\n            '   - A matriz é SIMÉTRICA: se A+B é incompatível, B+A também é',\n            '   - Diagonal (código consigo mesmo) é sempre Compatível',\n            '   - Use \"Referência_Códigos\" para ver descrições',\n            '',\n            '⚠️ IMPORTANTE:',\n            '   - Não mudar nome do ficheiro nem das folhas',\n            '   - Usar apenas \"Compatível\" ou \"Incompatível\" (sem acentos)',\n            '   - Após editar, GUARDAR e executar Secção 4 do notebook',\n            '',\n            f'📊 ESTATÍSTICAS DA MATRIZ:',\n            f'   - Total de códigos: {n_codigos}',\n            f'   - Pares marcados \"Incompatível\": {count_incompativel}',\n            f'   - Pares marcados \"Compatível\": {n_codigos*(n_codigos-1)//2 - count_incompativel}'\n        ]\n    })\n    instrucoes.to_excel(writer, sheet_name='INSTRUÇÕES', index=False)\n    \n    # Criar folha com lista dos pares incompatíveis (para facilitar revisão)\n    pares_incomp = []\n    for i, cod1 in enumerate(lista_codigos):\n        for j, cod2 in enumerate(lista_codigos):\n            if i < j and matriz_compat.loc[cod1, cod2] == 'Incompatível':\n                desc1 = codigos[codigos['codigo'] == cod1]['descricao'].values[0]\n                desc2 = codigos[codigos['codigo'] == cod2]['descricao'].values[0]\n                pares_incomp.append({\n                    'Código 1': cod1,\n                    'Descrição 1': desc1,\n                    'Código 2': cod2,\n                    'Descrição 2': desc2,\n                    'Regra': 'Automática'\n                })\n    \n    df_pares = pd.DataFrame(pares_incomp)\n    df_pares.to_excel(writer, sheet_name='Lista_Incompatíveis', index=False)\n\nprint(f'✅ Matriz exportada: {output_matriz}')\nprint(f'\\n📋 Folhas criadas:')\nprint(f'   1. INSTRUÇÕES: Como usar e validar a matriz')\nprint(f'   2. Matriz_Compatibilidade: Matriz {n_codigos}x{n_codigos} PRÉ-PREENCHIDA')\nprint(f'   3. Lista_Incompatíveis: Lista dos {count_incompativel} pares incompatíveis')\nprint(f'   4. Referência_Códigos: Consulta de códigos e descrições')\nprint(f'\\n🎯 PRÓXIMO PASSO:')\nprint(f'   1. Abrir: {output_matriz}')\nprint(f'   2. Revisar folha \"Lista_Incompatíveis\" (mais fácil que a matriz)')\nprint(f'   3. Se necessário, ajustar na \"Matriz_Compatibilidade\"')\nprint(f'   4. Guardar ficheiro')\nprint(f'   5. Executar Secção 4 do notebook')"
  },
  {
   "cell_type": "markdown",
   "metadata": {},
   "source": "---\n\n## 4. Teste de Incompatibilidades (executar APÓS editar a matriz)\n\n**⚠️ ATENÇÃO**: Só executar esta secção DEPOIS de editar e guardar `matriz_compatibilidade_codigos.xlsx`"
  },
  {
   "cell_type": "code",
   "execution_count": null,
   "metadata": {},
   "outputs": [],
   "source": "# Carregar matriz editada\nprint('Carregando matriz de compatibilidade editada...')\nmatriz_editada = pd.read_excel(\n    'matriz_compatibilidade_codigos.xlsx',\n    sheet_name='Matriz_Compatibilidade',\n    index_col=0\n)\n\n# Contar incompatibilidades definidas\ntotal_incompativeis = (matriz_editada == 'Incompatível').sum().sum()\n# Dividir por 2 porque matriz é simétrica\ntotal_incompativeis_unicos = total_incompativeis // 2\n\nprint(f'✅ Matriz carregada')\nprint(f'   Tamanho: {matriz_editada.shape[0]}x{matriz_editada.shape[1]}')\nprint(f'   Pares marcados como \"Incompatível\": {total_incompativeis} (ou {total_incompativeis_unicos} únicos)')\n\n# Identificar dias com múltiplos registros\nprint('\\nIdentificando dias com múltiplos registros...')\nregistros_por_dia = df_raw.groupby(['login_colaborador', 'Data']).size()\ndias_duplicados = registros_por_dia[registros_por_dia > 1]\n\nprint(f'✅ Total de dias-colaborador únicos: {len(registros_por_dia):,}')\nprint(f'   Dias com MÚLTIPLOS registros: {len(dias_duplicados):,} ({len(dias_duplicados)/len(registros_por_dia)*100:.1f}%)')\n\n# Filtrar apenas dias duplicados\ndias_dup_list = dias_duplicados.index.tolist()\ndf_dup = df_raw.set_index(['login_colaborador', 'Data']).loc[dias_dup_list].reset_index()\n\nprint(f'   Dataset de dias duplicados: {len(df_dup):,} registros')"
  },
  {
   "cell_type": "markdown",
   "metadata": {},
   "source": "### 4.1. Teste de Todas as Incompatibilidades"
  },
  {
   "cell_type": "code",
   "execution_count": null,
   "metadata": {},
   "outputs": [],
   "source": "print('='*90)\nprint('🚨 TESTANDO INCOMPATIBILIDADES')\nprint('='*90)\n\n# Dicionário para guardar resultados por par de códigos incompatíveis\nresultados_incompatibilidades = {}\n\n# Iterar por todos os dias duplicados\ntotal_dias_testados = 0\ntotal_incompatibilidades_encontradas = 0\n\nfor (login, data), count in dias_duplicados.items():\n    total_dias_testados += 1\n    \n    # Obter códigos deste dia\n    registros = df_dup[(df_dup['login_colaborador'] == login) & (df_dup['Data'] == data)]\n    codigos_dia = registros['segmento_processado_codigo'].values\n    nome = registros['nome_colaborador'].iloc[0]\n    \n    # Testar todos os pares de códigos\n    for i, cod1 in enumerate(codigos_dia):\n        for cod2 in codigos_dia[i+1:]:  # Evitar duplicatas e comparação consigo mesmo\n            # Verificar na matriz se são incompatíveis\n            if cod1 in matriz_editada.index and cod2 in matriz_editada.columns:\n                compatibilidade = matriz_editada.loc[cod1, cod2]\n                \n                if compatibilidade == 'Incompatível':\n                    total_incompatibilidades_encontradas += 1\n                    \n                    # Criar chave única para este par (ordenado alfabeticamente)\n                    par = tuple(sorted([cod1, cod2]))\n                    \n                    # Adicionar ao dicionário de resultados\n                    if par not in resultados_incompatibilidades:\n                        resultados_incompatibilidades[par] = []\n                    \n                    resultados_incompatibilidades[par].append({\n                        'Data': data,\n                        'Login': login,\n                        'Nome': nome,\n                        'Codigo_1': cod1,\n                        'Codigo_2': cod2\n                    })\n\nprint(f'\\n✅ Teste concluído')\nprint(f'   Dias testados: {total_dias_testados:,}')\nprint(f'   Incompatibilidades encontradas: {total_incompatibilidades_encontradas:,}')\nprint(f'   Pares de códigos incompatíveis encontrados: {len(resultados_incompatibilidades)}')\n\n# Mostrar resumo dos pares incompatíveis encontrados\nif len(resultados_incompatibilidades) > 0:\n    print(f'\\n📋 RESUMO DOS PARES INCOMPATÍVEIS ENCONTRADOS:')\n    for par, casos in sorted(resultados_incompatibilidades.items(), key=lambda x: len(x[1]), reverse=True):\n        cod1, cod2 = par\n        desc1 = codigos[codigos['codigo'] == cod1]['descricao'].values[0]\n        desc2 = codigos[codigos['codigo'] == cod2]['descricao'].values[0]\n        print(f'\\n   🔴 {cod1} + {cod2}: {len(casos)} casos')\n        print(f'      {desc1}')\n        print(f'      {desc2}')\nelse:\n    print(f'\\n✅ Nenhuma incompatibilidade encontrada nos dados!')"
  },
  {
   "cell_type": "markdown",
   "metadata": {},
   "source": "---\n\n## 5. Exportação dos Resultados"
  },
  {
   "cell_type": "code",
   "execution_count": null,
   "metadata": {},
   "outputs": [],
   "source": "if len(resultados_incompatibilidades) == 0:\n    print('⚠️ Nenhuma incompatibilidade encontrada. Nada para exportar.')\nelse:\n    # Criar Excel com uma folha por par de códigos incompatíveis\n    output_file = 'incompatibilidades_encontradas.xlsx'\n    \n    with pd.ExcelWriter(output_file, engine='openpyxl') as writer:\n        # Criar folha de resumo\n        resumo_data = []\n        for par, casos in sorted(resultados_incompatibilidades.items(), key=lambda x: len(x[1]), reverse=True):\n            cod1, cod2 = par\n            desc1 = codigos[codigos['codigo'] == cod1]['descricao'].values[0]\n            desc2 = codigos[codigos['codigo'] == cod2]['descricao'].values[0]\n            resumo_data.append({\n                'Código 1': cod1,\n                'Descrição 1': desc1,\n                'Código 2': cod2,\n                'Descrição 2': desc2,\n                'Casos': len(casos),\n                'Folha': f'{cod1}+{cod2}'\n            })\n        \n        df_resumo = pd.DataFrame(resumo_data)\n        df_resumo.to_excel(writer, sheet_name='RESUMO', index=False)\n        \n        # Criar uma folha por par incompatível\n        for par, casos in resultados_incompatibilidades.items():\n            cod1, cod2 = par\n            \n            # Criar DataFrame com os casos\n            df_casos = pd.DataFrame(casos)\n            \n            # Adicionar descrições dos códigos\n            desc1 = codigos[codigos['codigo'] == cod1]['descricao'].values[0]\n            desc2 = codigos[codigos['codigo'] == cod2]['descricao'].values[0]\n            df_casos['Descrição_1'] = desc1\n            df_casos['Descrição_2'] = desc2\n            \n            # Reordenar colunas\n            df_casos = df_casos[['Data', 'Login', 'Nome', 'Codigo_1', 'Descrição_1', 'Codigo_2', 'Descrição_2']]\n            \n            # Nome da folha (máximo 31 caracteres)\n            sheet_name = f'{cod1}+{cod2}'[:31]\n            \n            df_casos.to_excel(writer, sheet_name=sheet_name, index=False)\n    \n    print(f'✅ Resultados exportados: {output_file}')\n    print(f'\\n📋 Estrutura do ficheiro:')\n    print(f'   - Folha RESUMO: {len(resultados_incompatibilidades)} pares incompatíveis')\n    print(f'   - {len(resultados_incompatibilidades)} folhas com detalhes de cada par')\n    print(f'\\n📊 Total de casos: {total_incompatibilidades_encontradas:,}')\n    print(f'\\n🎯 Próximo passo: Analisar com RH e decidir ação para cada tipo de incompatibilidade')"
  },
  {
   "cell_type": "markdown",
   "metadata": {},
   "source": "---\n\n## Resumo do Processo\n\n### Workflow Completo:\n\n1. ✅ **Carregamento de Dados**: Códigos e dataset\n2. ✅ **Criação da Matriz**: Matriz 40x40 com todos os pares de códigos\n3. ✅ **Exportação da Matriz**: `matriz_compatibilidade_codigos.xlsx`\n4. 📝 **Edição Manual**: Marcar pares \"Incompatíveis\" no Excel\n5. 🔍 **Teste de Incompatibilidades**: Identificar todos os casos reais nos dados\n6. 📊 **Exportação de Resultados**: `incompatibilidades_encontradas.xlsx`\n\n### Vantagens desta Abordagem:\n\n- ✅ **Trabalha ao nível dos códigos originais** (não agregados)\n- ✅ **Evita incompatibilidades artificiais** causadas pela agregação em níveis\n- ✅ **Flexível**: Fácil adicionar/remover regras editando a matriz\n- ✅ **Auditável**: Matriz explícita de todas as regras de compatibilidade\n- ✅ **Reutilizável**: Matriz pode ser usada em análises futuras"
  }
 ],
 "metadata": {
  "kernelspec": {
   "display_name": "Python 3",
   "language": "python",
   "name": "python3"
  },
  "language_info": {
   "codemirror_mode": {
    "name": "ipython",
    "version": 3
   },
   "file_extension": ".py",
   "mimetype": "text/x-python",
   "name": "python",
   "nbconvert_exporter": "python",
   "pygments_lexer": "ipython3",
   "version": "3.8.0"
  }
 },
 "nbformat": 4,
 "nbformat_minor": 4
}