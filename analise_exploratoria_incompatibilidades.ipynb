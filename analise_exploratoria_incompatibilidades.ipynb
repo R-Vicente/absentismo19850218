{
 "cells": [
  {
   "cell_type": "markdown",
   "metadata": {},
   "source": "# Análise Exploratória: Incompatibilidades nos Dados\n\n**Objetivo**: Identificar todos os casos de incompatibilidades nos dados de absentismo para discussão com RH.\n\n**Abordagem**: Trabalhar ao nível de **nivel_4** (12 categorias) em vez de códigos individuais (40).\n\n## Por que nivel_4?\n\n- **Códigos individuais**: 40 códigos = 1600 combinações ❌ Impraticável!\n- **nivel_4**: 12 categorias = **144 combinações** ✅ Manejável!\n\n## Regras de Compatibilidade (nivel_4):\n\n### ✅ Compatíveis (apenas 3 pares):\n1. **Atraso** + **Presença Completa** ✓ (chegou atrasado mas trabalhou)\n2. **Atraso** + **Exame Escolar** ✓ (exame + chegou atrasado)\n3. **Presença Completa** + **Exame Escolar** ✓ (exame + trabalhou)\n\n### ❌ Incompatíveis:\n- **TODO o resto** → Incompatível com TUDO\n- Exemplos: Férias + Trabalho, Baixa Médica + Presença, Falta + Presença, etc.\n\n## Metodologia:\n\n1. **Criar Matriz 12x12**: Baseada em nivel_4, pré-preenchida com regras\n2. **Revisar e Ajustar**: Validar no Excel (muito mais rápido!)\n3. **Testar Incompatibilidades**: Identificar casos reais nos dados\n4. **Exportar Resultados**: Excel com detalhes para discussão com RH"
  },
  {
   "cell_type": "markdown",
   "metadata": {},
   "source": [
    "---\n",
    "\n",
    "## 1. Carregamento de Dados"
   ]
  },
  {
   "cell_type": "code",
   "execution_count": null,
   "metadata": {},
   "outputs": [],
   "source": "import pandas as pd\nimport numpy as np\nfrom datetime import datetime\nimport warnings\nwarnings.filterwarnings('ignore')\n\n# Carregar códigos (mesma estrutura do notebook de apresentação)\nprint('Carregando códigos...')\ncodigos = pd.read_excel('códigos.xlsx', engine='openpyxl')\ncodigos.columns = ['codigo', 'descricao', 'nivel_1', 'nivel_2', 'nivel_3', 'nivel_4']\n\n# Limpar espaços\nfor col in codigos.columns:\n    if codigos[col].dtype == 'object':\n        codigos[col] = codigos[col].str.strip()\n\nprint(f'✅ Códigos carregados: {len(codigos)} códigos')\nprint(f'   Níveis: N1={codigos[\"nivel_1\"].nunique()}, N2={codigos[\"nivel_2\"].nunique()}, N3={codigos[\"nivel_3\"].nunique()}, N4={codigos[\"nivel_4\"].nunique()}')\n\n# Carregar dataset\nprint('\\nCarregando dataset...')\ndf_raw = pd.read_csv('combined_data.csv', sep=',', parse_dates=['Data'])\n\n# Merge com códigos para ter todos os níveis\ndf_raw = df_raw.merge(\n    codigos[['codigo', 'nivel_1', 'nivel_2', 'nivel_3', 'nivel_4']], \n    left_on='segmento_processado_codigo', \n    right_on='codigo', \n    how='left'\n)\ndf_raw.drop('codigo', axis=1, inplace=True)\n\nprint(f'\\n✅ Dataset carregado: {len(df_raw):,} registros')\nprint(f'   Período: {df_raw[\"Data\"].min().strftime(\"%Y-%m-%d\")} a {df_raw[\"Data\"].max().strftime(\"%Y-%m-%d\")}')\nprint(f'   Colaboradores únicos: {df_raw[\"login_colaborador\"].nunique():,}')\nprint(f'   Colunas com níveis: {[c for c in df_raw.columns if \"nivel\" in c]}')"
  },
  {
   "cell_type": "markdown",
   "metadata": {},
   "source": "---\n\n## 2. Criação da Matriz de Compatibilidade (nivel_4)"
  },
  {
   "cell_type": "code",
   "execution_count": null,
   "metadata": {},
   "outputs": [],
   "source": "# Obter lista de categorias únicas do nivel_4\nlista_nivel4 = sorted(codigos['nivel_4'].unique())\nn_categorias = len(lista_nivel4)\n\nprint('='*90)\nprint('📋 CRIAÇÃO DA MATRIZ DE COMPATIBILIDADE (NIVEL_4)')\nprint('='*90)\nprint(f'\\nTotal de categorias (nivel_4): {n_categorias}')\nprint(f'Tamanho da matriz: {n_categorias}x{n_categorias} = {n_categorias*n_categorias} combinações')\nprint(f'\\n📋 Categorias do nivel_4:')\nfor i, cat in enumerate(lista_nivel4, 1):\n    # Contar quantos códigos pertencem a esta categoria\n    n_codigos_cat = (codigos['nivel_4'] == cat).sum()\n    print(f'   {i:2d}. {cat:30s} ({n_codigos_cat} códigos)')\n\n# Criar matriz de compatibilidade\n# Por padrão: TUDO incompatível\nmatriz_compat = pd.DataFrame(\n    'Incompatível',  # Valor padrão: tudo incompatível!\n    index=lista_nivel4,\n    columns=lista_nivel4\n)\n\nprint('\\n' + '='*90)\nprint('Aplicando regras de compatibilidade...')\nprint('='*90)\n\n# REGRA: Diagonal (categoria consigo mesma) é sempre compatível\nfor cat in lista_nivel4:\n    matriz_compat.loc[cat, cat] = 'Compatível'\n\n# REGRA: Apenas 3 pares são compatíveis (além da diagonal)\npares_compativeis = [\n    ('Atraso', 'Presença Completa'),\n    ('Atraso', 'Exame Escolar'),\n    ('Presença Completa', 'Exame Escolar')\n]\n\nfor cat1, cat2 in pares_compativeis:\n    if cat1 in matriz_compat.index and cat2 in matriz_compat.columns:\n        matriz_compat.loc[cat1, cat2] = 'Compatível'\n        matriz_compat.loc[cat2, cat1] = 'Compatível'  # Simétrica\n\n# Contar compatibilidades\ntotal_pares = n_categorias * (n_categorias - 1) // 2  # Sem contar diagonal\npares_compativeis_count = (matriz_compat == 'Compatível').sum().sum() - n_categorias  # Subtrair diagonal\npares_compativeis_count = pares_compativeis_count // 2  # Dividir por 2 (simétrica)\n\nprint(f'\\n✅ Matriz criada!')\nprint(f'   Total de pares (sem diagonal): {total_pares}')\nprint(f'   Pares Compatíveis: {pares_compativeis_count} ({pares_compativeis_count/total_pares*100:.1f}%)')\nprint(f'   Pares Incompatíveis: {total_pares - pares_compativeis_count} ({(total_pares-pares_compativeis_count)/total_pares*100:.1f}%)')\n\nprint(f'\\n💡 Regras aplicadas:')\nprint(f'   ✅ Categoria consigo mesma: Compatível (diagonal)')\nprint(f'   ✅ Atraso + Presença Completa: Compatível')\nprint(f'   ✅ Atraso + Exame Escolar: Compatível')\nprint(f'   ✅ Presença Completa + Exame Escolar: Compatível')\nprint(f'   ❌ TODO o resto: Incompatível')\n\nprint(f'\\n📝 Próximo passo: Exportar matriz para Excel e revisar')"
  },
  {
   "cell_type": "markdown",
   "metadata": {},
   "source": "---\n\n## 3. Exportação da Matriz para Excel"
  },
  {
   "cell_type": "code",
   "execution_count": null,
   "metadata": {},
   "outputs": [],
   "source": "# Exportar matriz para Excel\noutput_matriz = 'matriz_compatibilidade_nivel4.xlsx'\n\nwith pd.ExcelWriter(output_matriz, engine='openpyxl') as writer:\n    # Exportar matriz\n    matriz_compat.to_excel(writer, sheet_name='Matriz_Compatibilidade', index=True)\n    \n    # Criar folha de referência: nivel_4 -> códigos\n    df_nivel4_ref = codigos.groupby('nivel_4').agg({\n        'codigo': lambda x: ', '.join(sorted(x)),\n        'descricao': lambda x: f\"{len(x)} códigos\"\n    }).reset_index()\n    df_nivel4_ref.columns = ['Categoria_nivel_4', 'Códigos', 'Total']\n    df_nivel4_ref = df_nivel4_ref.sort_values('Categoria_nivel_4')\n    df_nivel4_ref.to_excel(writer, sheet_name='Referência_nivel_4', index=False)\n    \n    # Criar folha de instruções\n    instrucoes = pd.DataFrame({\n        'Instruções': [\n            '🎯 OBJETIVO: Validar regras de compatibilidade ao nível de nivel_4',\n            '',\n            '✅ MATRIZ 12x12 (144 combinações) - Muito mais manejável que 40x40!',\n            '',\n            '📋 REGRAS PRÉ-APLICADAS:',\n            '   ✅ Categoria consigo mesma → Compatível (diagonal)',\n            '   ✅ Atraso + Presença Completa → Compatível',\n            '   ✅ Atraso + Exame Escolar → Compatível',\n            '   ✅ Presença Completa + Exame Escolar → Compatível',\n            '   ❌ TODO o resto → Incompatível',\n            '',\n            '💡 LÓGICA DAS REGRAS:',\n            '   - Podes chegar atrasado e trabalhar ✓',\n            '   - Podes ter exame escolar e trabalhar ✓',\n            '   - Podes ter exame e chegar atrasado ✓',\n            '   - MAS não podes ter férias e trabalhar ✗',\n            '   - MAS não podes ter baixa médica e trabalhar ✗',\n            '   - MAS não podes ter falta e trabalhar ✗',\n            '',\n            '📝 O QUE FAZER:',\n            '   1. Revisar folha \"Matriz_Compatibilidade\" (12x12)',\n            '   2. Verificar se as 3 compatibilidades fazem sentido',\n            '   3. Se necessário, AJUSTAR (adicionar ou remover \"Compatível\")',\n            '   4. Folha \"Referência_nivel_4\" mostra quais códigos estão em cada categoria',\n            '',\n            '⚠️ IMPORTANTE:',\n            '   - Não mudar nome do ficheiro nem das folhas',\n            '   - Usar apenas \"Compatível\" ou \"Incompatível\"',\n            '   - Após editar, GUARDAR e executar Secção 4 do notebook',\n            '',\n            f'📊 ESTATÍSTICAS:',\n            f'   - Categorias (nivel_4): {n_categorias}',\n            f'   - Total de pares: {total_pares}',\n            f'   - Compatíveis: {pares_compativeis_count} ({pares_compativeis_count/total_pares*100:.1f}%)',\n            f'   - Incompatíveis: {total_pares - pares_compativeis_count} ({(total_pares-pares_compativeis_count)/total_pares*100:.1f}%)'\n        ]\n    })\n    instrucoes.to_excel(writer, sheet_name='INSTRUÇÕES', index=False)\n    \n    # Lista dos pares compatíveis (fácil de revisar)\n    pares_compat_lista = []\n    for i, cat1 in enumerate(lista_nivel4):\n        for j, cat2 in enumerate(lista_nivel4):\n            if i < j and matriz_compat.loc[cat1, cat2] == 'Compatível':\n                codigos_cat1 = codigos[codigos['nivel_4'] == cat1]['codigo'].tolist()\n                codigos_cat2 = codigos[codigos['nivel_4'] == cat2]['codigo'].tolist()\n                pares_compat_lista.append({\n                    'Categoria 1': cat1,\n                    'Códigos em Cat1': ', '.join(codigos_cat1),\n                    'Categoria 2': cat2,\n                    'Códigos em Cat2': ', '.join(codigos_cat2),\n                    'Regra': 'Automática'\n                })\n    \n    df_compat = pd.DataFrame(pares_compat_lista)\n    df_compat.to_excel(writer, sheet_name='Lista_Compatíveis', index=False)\n\nprint(f'✅ Matriz exportada: {output_matriz}')\nprint(f'\\n📋 Folhas criadas:')\nprint(f'   1. INSTRUÇÕES: Como usar e validar')\nprint(f'   2. Matriz_Compatibilidade: Matriz 12x12 PRÉ-PREENCHIDA')\nprint(f'   3. Lista_Compatíveis: Lista dos {pares_compativeis_count} pares compatíveis')\nprint(f'   4. Referência_nivel_4: Mapeamento nivel_4 → códigos')\nprint(f'\\n🎯 PRÓXIMO PASSO:')\nprint(f'   1. Abrir: {output_matriz}')\nprint(f'   2. Revisar folha \"Lista_Compatíveis\" (só {pares_compativeis_count} pares!)')\nprint(f'   3. Se necessário, ajustar na \"Matriz_Compatibilidade\"')\nprint(f'   4. Guardar ficheiro')\nprint(f'   5. Executar Secção 4 do notebook')"
  },
  {
   "cell_type": "markdown",
   "metadata": {},
   "source": "---\n\n## 4. Teste de Incompatibilidades (executar APÓS editar a matriz)\n\n**⚠️ ATENÇÃO**: Só executar esta secção DEPOIS de editar e guardar `matriz_compatibilidade_nivel4.xlsx`"
  },
  {
   "cell_type": "code",
   "execution_count": null,
   "metadata": {},
   "outputs": [],
   "source": "# Carregar matriz editada\nprint('Carregando matriz de compatibilidade editada...')\nmatriz_editada = pd.read_excel(\n    'matriz_compatibilidade_nivel4.xlsx',\n    sheet_name='Matriz_Compatibilidade',\n    index_col=0\n)\n\n# Contar incompatibilidades definidas\ntotal_incompativeis = (matriz_editada == 'Incompatível').sum().sum()\ntotal_compativeis = (matriz_editada == 'Compatível').sum().sum()\n\n# Subtrair diagonal e dividir por 2 (simétrica)\npares_incompativeis_unicos = (total_incompativeis - n_categorias) // 2\npares_compativeis_unicos = (total_compativeis - n_categorias) // 2\n\nprint(f'✅ Matriz carregada')\nprint(f'   Tamanho: {matriz_editada.shape[0]}x{matriz_editada.shape[1]}')\nprint(f'   Pares Compatíveis: {pares_compativeis_unicos}')\nprint(f'   Pares Incompatíveis: {pares_incompativeis_unicos}')\n\n# Identificar dias com múltiplos registros\nprint('\\nIdentificando dias com múltiplos registros...')\nregistros_por_dia = df_raw.groupby(['login_colaborador', 'Data']).size()\ndias_duplicados = registros_por_dia[registros_por_dia > 1]\n\nprint(f'✅ Total de dias-colaborador únicos: {len(registros_por_dia):,}')\nprint(f'   Dias com MÚLTIPLOS registros: {len(dias_duplicados):,} ({len(dias_duplicados)/len(registros_por_dia)*100:.1f}%)')\n\n# Filtrar apenas dias duplicados\ndias_dup_list = dias_duplicados.index.tolist()\ndf_dup = df_raw.set_index(['login_colaborador', 'Data']).loc[dias_dup_list].reset_index()\n\nprint(f'   Dataset de dias duplicados: {len(df_dup):,} registros')"
  },
  {
   "cell_type": "markdown",
   "metadata": {},
   "source": "### 4.1. Teste de Todas as Incompatibilidades"
  },
  {
   "cell_type": "code",
   "execution_count": null,
   "metadata": {},
   "outputs": [],
   "source": "print('='*90)\nprint('🚨 TESTANDO INCOMPATIBILIDADES (NIVEL_4) - VERSÃO OTIMIZADA')\nprint('='*90)\n\n# Preparar dados para teste eficiente\nprint('Preparando dados para teste eficiente...')\n\n# Criar DataFrame agrupado com todas as informações necessárias\n# Isto evita filtragens repetidas dentro do loop\ndf_dup_grouped = df_dup.groupby(['login_colaborador', 'Data']).apply(\n    lambda g: pd.Series({\n        'nome_colaborador': g['nome_colaborador'].iloc[0],\n        'categorias_nivel4': list(g['nivel_4'].unique()),\n        'dados_completos': g[['nivel_4', 'segmento_processado_codigo']].to_dict('records')\n    })\n).reset_index()\n\nprint(f'✅ Dados preparados: {len(df_dup_grouped):,} dias únicos a testar')\n\n# Dicionário para guardar resultados\nresultados_incompatibilidades = {}\ntotal_incompatibilidades_encontradas = 0\n\n# Processar cada dia\nprint('\\nTestando incompatibilidades...')\nfor idx, row in df_dup_grouped.iterrows():\n    if idx % 5000 == 0 and idx > 0:\n        print(f'   Processados {idx:,}/{len(df_dup_grouped):,} dias...')\n    \n    login = row['login_colaborador']\n    data = row['Data']\n    nome = row['nome_colaborador']\n    categorias_dia = row['categorias_nivel4']\n    dados_completos = row['dados_completos']\n    \n    # Testar todos os pares de categorias nivel_4\n    for i, cat1 in enumerate(categorias_dia):\n        for cat2 in categorias_dia[i+1:]:\n            # Verificar na matriz se são incompatíveis\n            if cat1 in matriz_editada.index and cat2 in matriz_editada.columns:\n                compatibilidade = matriz_editada.loc[cat1, cat2]\n                \n                if compatibilidade == 'Incompatível':\n                    total_incompatibilidades_encontradas += 1\n                    \n                    # Criar chave única para este par\n                    par = tuple(sorted([cat1, cat2]))\n                    \n                    # Inicializar lista se necessário\n                    if par not in resultados_incompatibilidades:\n                        resultados_incompatibilidades[par] = []\n                    \n                    # Obter códigos específicos - filtrar da lista já preparada\n                    codigos_cat1 = [d['segmento_processado_codigo'] for d in dados_completos if d['nivel_4'] == cat1]\n                    codigos_cat2 = [d['segmento_processado_codigo'] for d in dados_completos if d['nivel_4'] == cat2]\n                    \n                    resultados_incompatibilidades[par].append({\n                        'Data': data,\n                        'Login': login,\n                        'Nome': nome,\n                        'Categoria_1': cat1,\n                        'Códigos_Cat1': ', '.join(codigos_cat1),\n                        'Categoria_2': cat2,\n                        'Códigos_Cat2': ', '.join(codigos_cat2)\n                    })\n\nprint(f'\\n✅ Teste concluído!')\nprint(f'   Dias testados: {len(df_dup_grouped):,}')\nprint(f'   Incompatibilidades encontradas: {total_incompatibilidades_encontradas:,}')\nprint(f'   Pares de categorias incompatíveis encontrados: {len(resultados_incompatibilidades)}')\n\n# Mostrar resumo dos pares incompatíveis encontrados\nif len(resultados_incompatibilidades) > 0:\n    print(f'\\n📋 RESUMO DOS PARES INCOMPATÍVEIS ENCONTRADOS:')\n    for par, casos in sorted(resultados_incompatibilidades.items(), key=lambda x: len(x[1]), reverse=True):\n        cat1, cat2 = par\n        print(f'   🔴 {cat1} + {cat2}: {len(casos)} casos')\nelse:\n    print(f'\\n✅ Nenhuma incompatibilidade encontrada nos dados!')"
  },
  {
   "cell_type": "markdown",
   "metadata": {},
   "source": "---\n\n## 5. Exportação dos Resultados"
  },
  {
   "cell_type": "code",
   "execution_count": null,
   "metadata": {},
   "outputs": [],
   "source": "if len(resultados_incompatibilidades) == 0:\n    print('⚠️ Nenhuma incompatibilidade encontrada. Nada para exportar.')\nelse:\n    # Criar Excel com uma folha por par de categorias incompatíveis\n    output_file = 'incompatibilidades_encontradas.xlsx'\n    \n    with pd.ExcelWriter(output_file, engine='openpyxl') as writer:\n        # Criar folha de resumo\n        resumo_data = []\n        for par, casos in sorted(resultados_incompatibilidades.items(), key=lambda x: len(x[1]), reverse=True):\n            cat1, cat2 = par\n            resumo_data.append({\n                'Categoria 1 (nivel_4)': cat1,\n                'Categoria 2 (nivel_4)': cat2,\n                'Casos Encontrados': len(casos),\n                'Folha': f'{cat1[:15]}+{cat2[:15]}'\n            })\n        \n        df_resumo = pd.DataFrame(resumo_data)\n        df_resumo.to_excel(writer, sheet_name='RESUMO', index=False)\n        \n        # Criar uma folha por par incompatível\n        for par, casos in resultados_incompatibilidades.items():\n            cat1, cat2 = par\n            \n            # Criar DataFrame com os casos\n            df_casos = pd.DataFrame(casos)\n            \n            # Reordenar colunas\n            df_casos = df_casos[['Data', 'Login', 'Nome', 'Categoria_1', 'Códigos_Cat1', 'Categoria_2', 'Códigos_Cat2']]\n            \n            # Nome da folha (máximo 31 caracteres)\n            sheet_name = f'{cat1[:15]}+{cat2[:15]}'[:31]\n            \n            df_casos.to_excel(writer, sheet_name=sheet_name, index=False)\n    \n    print(f'✅ Resultados exportados: {output_file}')\n    print(f'\\n📋 Estrutura do ficheiro:')\n    print(f'   - Folha RESUMO: {len(resultados_incompatibilidades)} pares incompatíveis (nivel_4)')\n    print(f'   - {len(resultados_incompatibilidades)} folhas com detalhes de cada par')\n    print(f'   - Cada caso inclui: Data, Login, Nome, Categorias nivel_4, Códigos específicos')\n    print(f'\\n📊 Total de casos: {total_incompatibilidades_encontradas:,}')\n    print(f'\\n🎯 Próximo passo: Analisar com RH e decidir ação para cada tipo de incompatibilidade')"
  },
  {
   "cell_type": "markdown",
   "metadata": {},
   "source": "---\n\n## Resumo do Processo\n\n### Workflow Completo:\n\n1. ✅ **Carregamento de Dados**: Códigos e dataset\n2. ✅ **Criação da Matriz 12x12**: Baseada em nivel_4 (não códigos individuais!)\n3. ✅ **Exportação da Matriz**: `matriz_compatibilidade_nivel4.xlsx`\n4. 📝 **Revisão Manual**: Validar 3 pares compatíveis (muito rápido!)\n5. 🔍 **Teste de Incompatibilidades**: Identificar todos os casos reais nos dados\n6. 📊 **Exportação de Resultados**: `incompatibilidades_encontradas.xlsx`\n\n### Por que nivel_4 e não códigos?\n\n- **Códigos individuais**: 40 códigos = 1600 combinações ❌ Impraticável!\n- **nivel_4**: 12 categorias = **144 combinações** ✅ Manejável!\n- **Regras simples**: Apenas 3 pares compatíveis (Atraso/Presença/Exame)\n- **Fácil de revisar**: 5 minutos vs vários dias\n\n### Vantagens desta Abordagem:\n\n- ✅ **Pragmático**: 144 combinações em vez de 1600\n- ✅ **Regras claras**: Apenas 3 pares compatíveis, resto incompatível\n- ✅ **Rápido de validar**: Lista de 3 compatibilidades para revisar\n- ✅ **Flexível**: Fácil ajustar se necessário (editar Excel)\n- ✅ **Auditável**: Matriz explícita de todas as regras\n- ✅ **Reutilizável**: Matriz pode ser usada em análises futuras\n\n### Ficheiros Gerados:\n\n1. **matriz_compatibilidade_nivel4.xlsx**: Matriz 12x12 para validar\n2. **incompatibilidades_encontradas.xlsx**: Resultados com casos reais"
  }
 ],
 "metadata": {
  "kernelspec": {
   "display_name": "Python 3",
   "language": "python",
   "name": "python3"
  },
  "language_info": {
   "codemirror_mode": {
    "name": "ipython",
    "version": 3
   },
   "file_extension": ".py",
   "mimetype": "text/x-python",
   "name": "python",
   "nbconvert_exporter": "python",
   "pygments_lexer": "ipython3",
   "version": "3.8.0"
  }
 },
 "nbformat": 4,
 "nbformat_minor": 4
}